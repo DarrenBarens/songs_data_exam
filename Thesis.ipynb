{
  "cells": [
    {
      "cell_type": "markdown",
      "metadata": {
        "id": "view-in-github",
        "colab_type": "text"
      },
      "source": [
        "<a href=\"https://colab.research.google.com/github/DarrenBarens/songs_data_exam/blob/main/Thesis.ipynb\" target=\"_parent\"><img src=\"https://colab.research.google.com/assets/colab-badge.svg\" alt=\"Open In Colab\"/></a>"
      ]
    },
    {
      "cell_type": "code",
      "source": [
        "gpu_info = !nvidia-smi\n",
        "gpu_info = '\\n'.join(gpu_info)\n",
        "if gpu_info.find('failed') >= 0:\n",
        "  print('Not connected to a GPU')\n",
        "else:\n",
        "  print(gpu_info)"
      ],
      "metadata": {
        "id": "6Ivde8sqcwZ-",
        "outputId": "d555f739-a037-4389-af2d-4f5f8104febb",
        "colab": {
          "base_uri": "https://localhost:8080/"
        }
      },
      "execution_count": null,
      "outputs": [
        {
          "output_type": "stream",
          "name": "stdout",
          "text": [
            "Thu Nov 24 00:42:58 2022       \n",
            "+-----------------------------------------------------------------------------+\n",
            "| NVIDIA-SMI 460.32.03    Driver Version: 460.32.03    CUDA Version: 11.2     |\n",
            "|-------------------------------+----------------------+----------------------+\n",
            "| GPU  Name        Persistence-M| Bus-Id        Disp.A | Volatile Uncorr. ECC |\n",
            "| Fan  Temp  Perf  Pwr:Usage/Cap|         Memory-Usage | GPU-Util  Compute M. |\n",
            "|                               |                      |               MIG M. |\n",
            "|===============================+======================+======================|\n",
            "|   0  A100-SXM4-40GB      Off  | 00000000:00:04.0 Off |                    0 |\n",
            "| N/A   30C    P0    44W / 400W |      0MiB / 40536MiB |      0%      Default |\n",
            "|                               |                      |             Disabled |\n",
            "+-------------------------------+----------------------+----------------------+\n",
            "                                                                               \n",
            "+-----------------------------------------------------------------------------+\n",
            "| Processes:                                                                  |\n",
            "|  GPU   GI   CI        PID   Type   Process name                  GPU Memory |\n",
            "|        ID   ID                                                   Usage      |\n",
            "|=============================================================================|\n",
            "|  No running processes found                                                 |\n",
            "+-----------------------------------------------------------------------------+\n"
          ]
        }
      ]
    },
    {
      "cell_type": "code",
      "execution_count": null,
      "metadata": {
        "id": "P9GooW9lV0uD",
        "colab": {
          "base_uri": "https://localhost:8080/"
        },
        "outputId": "e18b981e-44a0-41b5-f64d-2022b0c6e84c"
      },
      "outputs": [
        {
          "output_type": "stream",
          "name": "stdout",
          "text": [
            "Colab only includes TensorFlow 2.x; %tensorflow_version has no effect.\n",
            "Looking in indexes: https://pypi.org/simple, https://us-python.pkg.dev/colab-wheels/public/simple/\n",
            "Collecting mitdeeplearning\n",
            "  Downloading mitdeeplearning-0.2.0.tar.gz (2.1 MB)\n",
            "\u001b[K     |████████████████████████████████| 2.1 MB 4.9 MB/s \n",
            "\u001b[?25hRequirement already satisfied: numpy in /usr/local/lib/python3.7/dist-packages (from mitdeeplearning) (1.21.6)\n",
            "Requirement already satisfied: regex in /usr/local/lib/python3.7/dist-packages (from mitdeeplearning) (2022.6.2)\n",
            "Requirement already satisfied: tqdm in /usr/local/lib/python3.7/dist-packages (from mitdeeplearning) (4.64.1)\n",
            "Requirement already satisfied: gym in /usr/local/lib/python3.7/dist-packages (from mitdeeplearning) (0.25.2)\n",
            "Requirement already satisfied: cloudpickle>=1.2.0 in /usr/local/lib/python3.7/dist-packages (from gym->mitdeeplearning) (1.5.0)\n",
            "Requirement already satisfied: gym-notices>=0.0.4 in /usr/local/lib/python3.7/dist-packages (from gym->mitdeeplearning) (0.0.8)\n",
            "Requirement already satisfied: importlib-metadata>=4.8.0 in /usr/local/lib/python3.7/dist-packages (from gym->mitdeeplearning) (4.13.0)\n",
            "Requirement already satisfied: zipp>=0.5 in /usr/local/lib/python3.7/dist-packages (from importlib-metadata>=4.8.0->gym->mitdeeplearning) (3.10.0)\n",
            "Requirement already satisfied: typing-extensions>=3.6.4 in /usr/local/lib/python3.7/dist-packages (from importlib-metadata>=4.8.0->gym->mitdeeplearning) (4.1.1)\n",
            "Building wheels for collected packages: mitdeeplearning\n",
            "  Building wheel for mitdeeplearning (setup.py) ... \u001b[?25l\u001b[?25hdone\n",
            "  Created wheel for mitdeeplearning: filename=mitdeeplearning-0.2.0-py3-none-any.whl size=2115441 sha256=a505a36eb336543744800d519dfe22ad1276b6185f59089262e0fc32af145355\n",
            "  Stored in directory: /root/.cache/pip/wheels/9a/b9/4f/99b7c8c5c75355550b83e1fcfc02956fb40c35eb01e2262877\n",
            "Successfully built mitdeeplearning\n",
            "Installing collected packages: mitdeeplearning\n",
            "Successfully installed mitdeeplearning-0.2.0\n"
          ]
        }
      ],
      "source": [
        "# Import Tensorflow 2.0\n",
        "%tensorflow_version 2.x\n",
        "import tensorflow as tf\n",
        "\n",
        "import IPython\n",
        "import functools\n",
        "import matplotlib.pyplot as plt\n",
        "import numpy as np\n",
        "from tqdm import tqdm\n",
        "\n",
        "# Download and import the MIT 6.S191 package\n",
        "!pip install mitdeeplearning\n",
        "import mitdeeplearning as mdl"
      ]
    },
    {
      "cell_type": "code",
      "execution_count": null,
      "metadata": {
        "id": "dvbXi_kFWKHQ",
        "colab": {
          "base_uri": "https://localhost:8080/"
        },
        "outputId": "1d60181d-367d-4eb1-96f2-612a9594e91e"
      },
      "outputs": [
        {
          "output_type": "stream",
          "name": "stdout",
          "text": [
            "Downloading data from https://www.dropbox.com/s/hlz8atheyozp1yx/train_face.h5?dl=1\n",
            "1263889489/1263889489 [==============================] - 14s 0us/step\n"
          ]
        }
      ],
      "source": [
        "# Get the training data: both images from CelebA and ImageNet\n",
        "path_to_training_data = tf.keras.utils.get_file('train_face.h5', 'https://www.dropbox.com/s/hlz8atheyozp1yx/train_face.h5?dl=1')"
      ]
    },
    {
      "cell_type": "code",
      "source": [
        "print(path_to_training_data)"
      ],
      "metadata": {
        "colab": {
          "base_uri": "https://localhost:8080/"
        },
        "id": "nYVKKA_3Xmkf",
        "outputId": "75852ec4-73d1-4a9f-b993-5ddc1962af66"
      },
      "execution_count": null,
      "outputs": [
        {
          "output_type": "stream",
          "name": "stdout",
          "text": [
            "/root/.keras/datasets/train_face.h5\n"
          ]
        }
      ]
    },
    {
      "cell_type": "code",
      "execution_count": null,
      "metadata": {
        "id": "L5NHUl15WRfn",
        "colab": {
          "base_uri": "https://localhost:8080/"
        },
        "outputId": "ee363d99-7527-4aaf-d24d-b7f1e2856164"
      },
      "outputs": [
        {
          "output_type": "stream",
          "name": "stdout",
          "text": [
            "Opening /root/.keras/datasets/train_face.h5\n",
            "Loading data into memory...\n"
          ]
        }
      ],
      "source": [
        "# Instantiate a TrainingDatasetLoader using the downloaded dataset\n",
        "loader = mdl.lab2.TrainingDatasetLoader(path_to_training_data)"
      ]
    },
    {
      "cell_type": "code",
      "execution_count": null,
      "metadata": {
        "id": "tEl9b7v8sW5B",
        "colab": {
          "base_uri": "https://localhost:8080/"
        },
        "outputId": "6bb05ac0-2214-45be-8812-f5775e9a5b1b"
      },
      "outputs": [
        {
          "output_type": "execute_result",
          "data": {
            "text/plain": [
              "<mitdeeplearning.lab2.TrainingDatasetLoader at 0x7fd2d1f38890>"
            ]
          },
          "metadata": {},
          "execution_count": 8
        }
      ],
      "source": [
        "loader"
      ]
    },
    {
      "cell_type": "code",
      "execution_count": null,
      "metadata": {
        "id": "4d8h2n7zWr7Q"
      },
      "outputs": [],
      "source": [
        "number_of_training_examples = loader.get_train_size()\n",
        "(images, labels) = loader.get_batch(100)"
      ]
    },
    {
      "cell_type": "code",
      "source": [
        "number_of_training_examples"
      ],
      "metadata": {
        "colab": {
          "base_uri": "https://localhost:8080/"
        },
        "id": "CLMQHu5lNAYb",
        "outputId": "9720cb74-adf9-44ab-87f9-ccdbc5b79973"
      },
      "execution_count": null,
      "outputs": [
        {
          "output_type": "execute_result",
          "data": {
            "text/plain": [
              "109914"
            ]
          },
          "metadata": {},
          "execution_count": 8
        }
      ]
    },
    {
      "cell_type": "code",
      "execution_count": null,
      "metadata": {
        "id": "GQyoawVxWzNF",
        "colab": {
          "base_uri": "https://localhost:8080/",
          "height": 191
        },
        "outputId": "76914a57-1f48-41ac-8cde-3b468d012c94"
      },
      "outputs": [
        {
          "output_type": "display_data",
          "data": {
            "text/plain": [
              "<Figure size 360x360 with 2 Axes>"
            ],
            "image/png": "[encoded data removed]"
          },
          "metadata": {
            "needs_background": "light"
          }
        }
      ],
      "source": [
        "### Examining the CelebA training dataset ###\n",
        "\n",
        "#@title Change the sliders to look at positive and negative training examples! { run: \"auto\" }\n",
        "\n",
        "face_images = images[np.where(labels==1)[0]]\n",
        "not_face_images = images[np.where(labels==0)[0]]\n",
        "\n",
        "idx_face = 34 #@param {type:\"slider\", min:0, max:50, step:1}\n",
        "idx_not_face = 9 #@param {type:\"slider\", min:0, max:50, step:1}\n",
        "\n",
        "plt.figure(figsize=(5,5))\n",
        "plt.subplot(1, 2, 1)\n",
        "plt.imshow(face_images[idx_face])\n",
        "plt.title(\"Face\"); plt.grid(False)\n",
        "\n",
        "plt.subplot(1, 2, 2)\n",
        "plt.imshow(not_face_images[idx_not_face])\n",
        "plt.title(\"Not Face\"); plt.grid(False)"
      ]
    },
    {
      "cell_type": "code",
      "execution_count": null,
      "metadata": {
        "id": "2snYwtOsXFcz"
      },
      "outputs": [],
      "source": [
        "### Define the CNN model ###\n",
        "\n",
        "n_filters = 12 # base number of convolutional filters\n",
        "\n",
        "'''Function to define a standard CNN model'''\n",
        "def make_standard_classifier(n_outputs=1):\n",
        "  Conv2D = functools.partial(tf.keras.layers.Conv2D, padding='same', activation='relu')\n",
        "  BatchNormalization = tf.keras.layers.BatchNormalization\n",
        "  Flatten = tf.keras.layers.Flatten\n",
        "  Dense = functools.partial(tf.keras.layers.Dense, activation='relu')\n",
        "\n",
        "  model = tf.keras.Sequential([\n",
        "    Conv2D(filters=1*n_filters, kernel_size=5,  strides=2),\n",
        "    BatchNormalization(),\n",
        "    \n",
        "    Conv2D(filters=2*n_filters, kernel_size=5,  strides=2),\n",
        "    BatchNormalization(),\n",
        "\n",
        "    Conv2D(filters=4*n_filters, kernel_size=3,  strides=2),\n",
        "    BatchNormalization(),\n",
        "\n",
        "    Conv2D(filters=6*n_filters, kernel_size=3,  strides=2),\n",
        "    BatchNormalization(),\n",
        "\n",
        "    Flatten(),\n",
        "    Dense(512),\n",
        "    Dense(n_outputs, activation=None),\n",
        "  ])\n",
        "  return model\n",
        "\n",
        "standard_classifier = make_standard_classifier()"
      ]
    },
    {
      "cell_type": "code",
      "execution_count": null,
      "metadata": {
        "id": "4pBiD0C_XLWM",
        "colab": {
          "base_uri": "https://localhost:8080/",
          "height": 530
        },
        "outputId": "57f2c725-85fa-467d-ed3d-c958dbe975a8"
      },
      "outputs": [
        {
          "output_type": "display_data",
          "data": {
            "text/plain": [
              "<Figure size 432x288 with 1 Axes>"
            ],
            "image/png": "[encoded data removed]"
          },
          "metadata": {}
        },
        {
          "output_type": "stream",
          "name": "stderr",
          "text": [
            "100%|██████████| 3434/3434 [00:30<00:00, 111.09it/s]\n"
          ]
        },
        {
          "output_type": "display_data",
          "data": {
            "text/plain": [
              "<Figure size 432x288 with 1 Axes>"
            ],
            "image/png": "[encoded data removed]"
          },
          "metadata": {
            "needs_background": "light"
          }
        }
      ],
      "source": [
        "### Train the standard CNN ###\n",
        "\n",
        "# Training hyperparameters\n",
        "batch_size = 32\n",
        "num_epochs = 2  # keep small to run faster\n",
        "learning_rate = 5e-4\n",
        "\n",
        "optimizer = tf.keras.optimizers.Adam(learning_rate) # define our optimizer\n",
        "loss_history = mdl.util.LossHistory(smoothing_factor=0.99) # to record loss evolution\n",
        "plotter = mdl.util.PeriodicPlotter(sec=2, scale='semilogy')\n",
        "if hasattr(tqdm, '_instances'): tqdm._instances.clear() # clear if it exists\n",
        "\n",
        "@tf.function\n",
        "def standard_train_step(x, y):\n",
        "  with tf.GradientTape() as tape:\n",
        "    # feed the images into the model\n",
        "    logits = standard_classifier(x) \n",
        "    # Compute the loss\n",
        "    loss = tf.nn.sigmoid_cross_entropy_with_logits(labels=y, logits=logits)\n",
        "\n",
        "  # Backpropagation\n",
        "  grads = tape.gradient(loss, standard_classifier.trainable_variables)\n",
        "  optimizer.apply_gradients(zip(grads, standard_classifier.trainable_variables))\n",
        "  return loss\n",
        "\n",
        "# The training loop!\n",
        "for epoch in range(num_epochs):\n",
        "  for idx in tqdm(range(loader.get_train_size()//batch_size)):\n",
        "    # Grab a batch of training data and propagate through the network\n",
        "    x, y = loader.get_batch(batch_size)\n",
        "    loss = standard_train_step(x, y)\n",
        "   \n",
        "\n",
        "    # Record the loss and plot the evolution of the loss as a function of training\n",
        "    loss_history.append(loss.numpy().mean())\n",
        "    plotter.plot(loss_history.get())\n"
      ]
    },
    {
      "cell_type": "code",
      "source": [
        "type(loss)"
      ],
      "metadata": {
        "colab": {
          "base_uri": "https://localhost:8080/"
        },
        "id": "7WpGQBr2Elh6",
        "outputId": "62c60c22-8f09-4cbb-a3e0-fcd6969810f3"
      },
      "execution_count": null,
      "outputs": [
        {
          "output_type": "execute_result",
          "data": {
            "text/plain": [
              "tensorflow.python.framework.ops.EagerTensor"
            ]
          },
          "metadata": {},
          "execution_count": 12
        }
      ]
    },
    {
      "cell_type": "code",
      "source": [
        "y.shape"
      ],
      "metadata": {
        "colab": {
          "base_uri": "https://localhost:8080/"
        },
        "id": "BEZSn9snk_JB",
        "outputId": "130b4e7f-123d-4140-9911-684fb7bb95a7"
      },
      "execution_count": null,
      "outputs": [
        {
          "output_type": "execute_result",
          "data": {
            "text/plain": [
              "(32, 1)"
            ]
          },
          "metadata": {},
          "execution_count": 13
        }
      ]
    },
    {
      "cell_type": "code",
      "execution_count": null,
      "metadata": {
        "id": "DzHRT-BQXN73",
        "colab": {
          "base_uri": "https://localhost:8080/"
        },
        "outputId": "56ab17ea-57d5-46fc-932d-94c8afe84e83"
      },
      "outputs": [
        {
          "output_type": "stream",
          "name": "stdout",
          "text": [
            "157/157 [==============================] - 1s 2ms/step\n",
            "Standard CNN accuracy on (potentially biased) training set: 0.9928\n"
          ]
        }
      ],
      "source": [
        "### Evaluation of standard CNN ###\n",
        "\n",
        "# TRAINING DATA\n",
        "# Evaluate on a subset of CelebA+Imagenet\n",
        "(batch_x, batch_y) = loader.get_batch(5000)\n",
        "y_pred_standard = tf.round(tf.nn.sigmoid(standard_classifier.predict(batch_x)))\n",
        "acc_standard = tf.reduce_mean(tf.cast(tf.equal(batch_y, y_pred_standard), tf.float32))\n",
        "\n",
        "print(\"Standard CNN accuracy on (potentially biased) training set: {:.4f}\".format(acc_standard.numpy()))"
      ]
    },
    {
      "cell_type": "code",
      "source": [
        "batch_x.shape"
      ],
      "metadata": {
        "colab": {
          "base_uri": "https://localhost:8080/"
        },
        "id": "qutrRrcaNIRi",
        "outputId": "ff03f7d4-a438-442c-f9ae-b075bd3c7c9b"
      },
      "execution_count": null,
      "outputs": [
        {
          "output_type": "execute_result",
          "data": {
            "text/plain": [
              "(5000, 64, 64, 3)"
            ]
          },
          "metadata": {},
          "execution_count": 15
        }
      ]
    },
    {
      "cell_type": "code",
      "source": [
        "batch_y.shape"
      ],
      "metadata": {
        "colab": {
          "base_uri": "https://localhost:8080/"
        },
        "id": "Ifcc8dfHNosw",
        "outputId": "450c1420-095c-4047-e4fe-ef12fa12fa78"
      },
      "execution_count": null,
      "outputs": [
        {
          "output_type": "execute_result",
          "data": {
            "text/plain": [
              "(5000, 1)"
            ]
          },
          "metadata": {},
          "execution_count": 16
        }
      ]
    },
    {
      "cell_type": "code",
      "execution_count": null,
      "metadata": {
        "id": "fHiNqaHtXSy2",
        "colab": {
          "base_uri": "https://localhost:8080/",
          "height": 437
        },
        "outputId": "dc75c38c-e339-4b8f-c07b-f00e822ce914"
      },
      "outputs": [
        {
          "output_type": "display_data",
          "data": {
            "text/plain": [
              "<Figure size 360x360 with 1 Axes>"
            ],
            "image/png": "[encoded data removed]"
          },
          "metadata": {
            "needs_background": "light"
          }
        },
        {
          "output_type": "display_data",
          "data": {
            "text/plain": [
              "<Figure size 360x360 with 1 Axes>"
            ],
            "image/png": "[encoded data removed]"
          },
          "metadata": {
            "needs_background": "light"
          }
        },
        {
          "output_type": "display_data",
          "data": {
            "text/plain": [
              "<Figure size 360x360 with 1 Axes>"
            ],
            "image/png": "[encoded data removed]"
          },
          "metadata": {
            "needs_background": "light"
          }
        },
        {
          "output_type": "display_data",
          "data": {
            "text/plain": [
              "<Figure size 360x360 with 1 Axes>"
            ],
            "image/png": "[encoded data removed]"
          },
          "metadata": {
            "needs_background": "light"
          }
        }
      ],
      "source": [
        "### Load test dataset and plot examples ###\n",
        "\n",
        "test_faces = mdl.lab2.get_test_faces()\n",
        "keys = [\"Light Female\", \"Light Male\", \"Dark Female\", \"Dark Male\"]\n",
        "for group, key in zip(test_faces,keys): \n",
        "  plt.figure(figsize=(5,5))\n",
        "  plt.imshow(np.hstack(group))\n",
        "  plt.title(key, fontsize=15)"
      ]
    },
    {
      "cell_type": "code",
      "execution_count": null,
      "metadata": {
        "id": "8DfzGGeuu2ME",
        "colab": {
          "base_uri": "https://localhost:8080/"
        },
        "outputId": "c5207597-b684-4e7a-966d-dd0c0b46be87"
      },
      "outputs": [
        {
          "output_type": "execute_result",
          "data": {
            "text/plain": [
              "12288"
            ]
          },
          "metadata": {},
          "execution_count": 18
        }
      ],
      "source": [
        "test_faces[1][3].size"
      ]
    },
    {
      "cell_type": "code",
      "execution_count": null,
      "metadata": {
        "id": "80kMwPD1XVfq",
        "colab": {
          "base_uri": "https://localhost:8080/",
          "height": 281
        },
        "outputId": "b3382a25-1a25-4e49-a1f1-116d59866e61"
      },
      "outputs": [
        {
          "output_type": "display_data",
          "data": {
            "text/plain": [
              "<Figure size 432x288 with 1 Axes>"
            ],
            "image/png": "[encoded data removed]"
          },
          "metadata": {
            "needs_background": "light"
          }
        }
      ],
      "source": [
        "### Evaluate the standard CNN on the test data ### \n",
        "\n",
        "standard_classifier_logits = [standard_classifier(np.array(x, dtype=np.float32)) for x in test_faces]\n",
        "standard_classifier_probs = tf.squeeze(tf.sigmoid(standard_classifier_logits))\n",
        "\n",
        "# Plot the prediction accuracies per demographic\n",
        "xx = range(len(keys))\n",
        "yy = standard_classifier_probs.numpy().mean(1)\n",
        "plt.bar(xx, yy)\n",
        "plt.xticks(xx, keys)\n",
        "plt.ylim(max(0,yy.min()-yy.ptp()/2.), yy.max()+yy.ptp()/2.)\n",
        "plt.title(\"Standard classifier predictions\");"
      ]
    },
    {
      "cell_type": "code",
      "execution_count": null,
      "metadata": {
        "id": "FbfUwqoTXjT-"
      },
      "outputs": [],
      "source": [
        "### Defining the VAE loss function ###\n",
        "\n",
        "''' Function to calculate VAE loss given:\n",
        "      an input x, \n",
        "      reconstructed output x_recon, \n",
        "      encoded means mu, \n",
        "      encoded log of standard deviation logsigma, \n",
        "      weight parameter for the latent loss kl_weight\n",
        "'''\n",
        "def vae_loss_function(x, x_recon, mu, logsigma, kl_weight=0.0005):\n",
        "  \n",
        "  latent_loss = 0.5 * tf.reduce_sum(tf.exp(logsigma) + tf.square(mu) - 1.0 - logsigma, axis=1)\n",
        "  # latent_loss = # TODO\n",
        "\n",
        "  \n",
        "  reconstruction_loss = tf.reduce_mean(tf.abs(x-x_recon), axis=(1,2,3))\n",
        "  # reconstruction_loss = # TODO\n",
        "\n",
        "  # TODO: Define the VAE loss. Note this is given in the equation for L_{VAE}\n",
        "  # in the text block directly above\n",
        "  vae_loss = kl_weight * latent_loss + reconstruction_loss\n",
        "  # vae_loss = # TODO\n",
        "  \n",
        "  return vae_loss"
      ]
    },
    {
      "cell_type": "code",
      "execution_count": null,
      "metadata": {
        "id": "iaU8Mse0YILR"
      },
      "outputs": [],
      "source": [
        "### VAE Reparameterization ###\n",
        "\n",
        "\"\"\"Reparameterization trick by sampling from an isotropic unit Gaussian.\n",
        "# Arguments\n",
        "    z_mean, z_logsigma (tensor): mean and log of standard deviation of latent distribution (Q(z|X))\n",
        "# Returns\n",
        "    z (tensor): sampled latent vector\n",
        "\"\"\"\n",
        "def sampling(z_mean, z_logsigma):\n",
        "  # By default, random.normal is \"standard\" (ie. mean=0 and std=1.0)\n",
        "  batch, latent_dim = z_mean.shape\n",
        "  epsilon = tf.random.normal(shape=(batch, latent_dim))\n",
        "\n",
        "  z = z_mean + tf.math.exp(0.5 * z_logsigma) * epsilon\n",
        "  # z = # TODO\n",
        "  return z"
      ]
    },
    {
      "cell_type": "code",
      "execution_count": null,
      "metadata": {
        "id": "LrC9UttbYKVk"
      },
      "outputs": [],
      "source": [
        "### Loss function for DB-VAE ###\n",
        "\n",
        "\"\"\"Loss function for DB-VAE.\n",
        "# Arguments\n",
        "    x: true input x\n",
        "    x_pred: reconstructed x\n",
        "    y: true label (face or not face)\n",
        "    y_logit: predicted labels\n",
        "    mu: mean of latent distribution (Q(z|X))\n",
        "    logsigma: log of standard deviation of latent distribution (Q(z|X))\n",
        "# Returns\n",
        "    total_loss: DB-VAE total loss\n",
        "    classification_loss = DB-VAE classification loss\n",
        "\"\"\"\n",
        "def debiasing_loss_function(x, x_pred, y, y_logit, mu, logsigma):\n",
        "\n",
        "  vae_loss = vae_loss_function(x, x_pred, mu, logsigma)\n",
        "  # vae_loss = vae_loss_function('''TODO''') # TODO\n",
        "\n",
        "  classification_loss = tf.nn.sigmoid_cross_entropy_with_logits(labels=y, logits=y_logit)\n",
        "  # classification_loss = # TODO\n",
        "\n",
        "  # Use the training data labels to create variable face_indicator:\n",
        "  #   indicator that reflects which training data are images of faces\n",
        "  face_indicator = tf.cast(tf.equal(y, 1), tf.float32)\n",
        "\n",
        "  total_loss = tf.reduce_mean(\n",
        "      classification_loss + \n",
        "      face_indicator * vae_loss\n",
        "  )\n",
        "  # total_loss = # TODO\n",
        "\n",
        "  return total_loss, classification_loss"
      ]
    },
    {
      "cell_type": "code",
      "execution_count": null,
      "metadata": {
        "id": "R3kRrHGpYMkY"
      },
      "outputs": [],
      "source": [
        "### Define the decoder portion of the DB-VAE ###\n",
        "\n",
        "n_filters = 12 # base number of convolutional filters, same as standard CNN\n",
        "latent_dim = 100 # number of latent variables\n",
        "\n",
        "def make_face_decoder_network():\n",
        "  # Functionally define the different layer types we will use\n",
        "  Conv2DTranspose = functools.partial(tf.keras.layers.Conv2DTranspose, padding='same', activation='relu')\n",
        "  BatchNormalization = tf.keras.layers.BatchNormalization\n",
        "  Flatten = tf.keras.layers.Flatten\n",
        "  Dense = functools.partial(tf.keras.layers.Dense, activation='relu')\n",
        "  Reshape = tf.keras.layers.Reshape\n",
        "\n",
        "  # Build the decoder network using the Sequential API\n",
        "  decoder = tf.keras.Sequential([\n",
        "    # Transform to pre-convolutional generation\n",
        "    Dense(units=4*4*6*n_filters),  # 4x4 feature maps (with 6N occurances)\n",
        "    Reshape(target_shape=(4, 4, 6*n_filters)),\n",
        "\n",
        "    # Upscaling convolutions (inverse of encoder)\n",
        "    Conv2DTranspose(filters=4*n_filters, kernel_size=3,  strides=2),\n",
        "    Conv2DTranspose(filters=2*n_filters, kernel_size=3,  strides=2),\n",
        "    Conv2DTranspose(filters=1*n_filters, kernel_size=5,  strides=2),\n",
        "    Conv2DTranspose(filters=3, kernel_size=5,  strides=2),\n",
        "  ])\n",
        "\n",
        "  return decoder"
      ]
    },
    {
      "cell_type": "code",
      "execution_count": null,
      "metadata": {
        "id": "12LDaST_YQ4m"
      },
      "outputs": [],
      "source": [
        "### Defining and creating the DB-VAE ###\n",
        "\n",
        "class DB_VAE(tf.keras.Model):\n",
        "  def __init__(self, latent_dim):\n",
        "    super(DB_VAE, self).__init__()\n",
        "    self.latent_dim = latent_dim\n",
        "\n",
        "    # Define the number of outputs for the encoder. Recall that we have \n",
        "    # `latent_dim` latent variables, as well as a supervised output for the \n",
        "    # classification.\n",
        "    num_encoder_dims = 2*self.latent_dim + 1\n",
        "\n",
        "    self.encoder = make_standard_classifier(num_encoder_dims)\n",
        "    self.decoder = make_face_decoder_network()\n",
        "\n",
        "  # function to feed images into encoder, encode the latent space, and output\n",
        "  #   classification probability \n",
        "  def encode(self, x):\n",
        "    # encoder output\n",
        "    encoder_output = self.encoder(x)\n",
        "\n",
        "    # classification prediction\n",
        "    y_logit = tf.expand_dims(encoder_output[:, 0], -1)\n",
        "    # latent variable distribution parameters\n",
        "    z_mean = encoder_output[:, 1:self.latent_dim+1] \n",
        "    z_logsigma = encoder_output[:, self.latent_dim+1:]\n",
        "\n",
        "    return y_logit, z_mean, z_logsigma\n",
        "\n",
        "  # VAE reparameterization: given a mean and logsigma, sample latent variables\n",
        "  def reparameterize(self, z_mean, z_logsigma):\n",
        "   \n",
        "    z = sampling(z_mean, z_logsigma)\n",
        "   \n",
        "    return z\n",
        "# Decode the latent space and output reconstruction\n",
        "  def decode(self, z):\n",
        "    \n",
        "    reconstruction = self.decoder(z)\n",
        "    # reconstruction = # TODO\n",
        "    return reconstruction\n",
        "\n",
        "  # The call function will be used to pass inputs x through the core VAE\n",
        "  def call(self, x): \n",
        "    # Encode input to a prediction and latent space\n",
        "    y_logit, z_mean, z_logsigma = self.encode(x)\n",
        "\n",
        "    \n",
        "    z = self.reparameterize(z_mean, z_logsigma)\n",
        "\n",
        "  \n",
        "    recon = self.decode(z)\n",
        "  \n",
        "    return y_logit, z_mean, z_logsigma, recon\n",
        "\n",
        "  # Predict face or not face logit for given input x\n",
        "  def predict(self, x):\n",
        "    y_logit, z_mean, z_logsigma = self.encode(x)\n",
        "    return y_logit\n",
        "\n",
        "dbvae = DB_VAE(latent_dim)"
      ]
    },
    {
      "cell_type": "code",
      "execution_count": null,
      "metadata": {
        "id": "m5cL9aEJYT6U"
      },
      "outputs": [],
      "source": [
        "# Function to return the means for an input image batch\n",
        "def get_latent_mu(images, dbvae, batch_size=1024):\n",
        "  N = images.shape[0]\n",
        "  mu = np.zeros((N, latent_dim))\n",
        "  for start_ind in range(0, N, batch_size):\n",
        "    end_ind = min(start_ind+batch_size, N+1)\n",
        "    batch = (images[start_ind:end_ind]).astype(np.float32)/255.\n",
        "    _, batch_mu, _ = dbvae.encode(batch)\n",
        "    mu[start_ind:end_ind] = batch_mu\n",
        "  return mu"
      ]
    },
    {
      "cell_type": "code",
      "execution_count": null,
      "metadata": {
        "id": "cCfPap5TYXTt"
      },
      "outputs": [],
      "source": [
        "### Resampling algorithm for DB-VAE ###\n",
        "\n",
        "'''Function that recomputes the sampling probabilities for images within a batch\n",
        "      based on how they distribute across the training data'''\n",
        "def get_training_sample_probabilities(images, dbvae, bins=10, smoothing_fac=0.001): \n",
        "    print(\"Recomputing the sampling probabilities\")\n",
        "    \n",
        "    \n",
        "    mu = get_latent_mu(images, dbvae)\n",
        "    # mu = get_latent_mu('''TODO''') # TODO\n",
        "\n",
        "    # sampling probabilities for the images\n",
        "    training_sample_p = np.zeros(mu.shape[0])\n",
        "    \n",
        "    # consider the distribution for each latent variable \n",
        "    for i in range(latent_dim):\n",
        "      \n",
        "        latent_distribution = mu[:,i]\n",
        "        # generate a histogram of the latent distribution\n",
        "        hist_density, bin_edges =  np.histogram(latent_distribution, density=True, bins=bins)\n",
        "\n",
        "        # find which latent bin every data sample falls in \n",
        "        bin_edges[0] = -float('inf')\n",
        "        bin_edges[-1] = float('inf')\n",
        "        \n",
        "        \n",
        "        #    every data sample falls in to\n",
        "        \n",
        "        bin_idx = np.digitize(latent_distribution, bin_edges)\n",
        "        # bin_idx = np.digitize('''TODO''', '''TODO''') # TODO\n",
        "\n",
        "        # smooth the density function\n",
        "        hist_smoothed_density = hist_density + smoothing_fac\n",
        "        hist_smoothed_density = hist_smoothed_density / np.sum(hist_smoothed_density)\n",
        "\n",
        "        # invert the density function \n",
        "        p = 1.0/(hist_smoothed_density[bin_idx-1])\n",
        "        \n",
        "      \n",
        "        p = p / np.sum(p)\n",
        "        # p = # TODO\n",
        "        \n",
        "        #     computed p is greater than the existing sampling probabilities.\n",
        "        training_sample_p = np.maximum(p, training_sample_p)\n",
        "      \n",
        "        \n",
        "    # final normalization\n",
        "    training_sample_p /= np.sum(training_sample_p)\n",
        "\n",
        "    return training_sample_p\n"
      ]
    },
    {
      "cell_type": "code",
      "execution_count": null,
      "metadata": {
        "colab": {
          "base_uri": "https://localhost:8080/",
          "height": 786
        },
        "id": "9QBQWEATYXkJ",
        "outputId": "908e13bf-ee0e-42e2-d457-4aabe6163656"
      },
      "outputs": [
        {
          "output_type": "stream",
          "name": "stdout",
          "text": [
            "Starting epoch 6/6\n",
            "Recomputing the sampling probabilities\n"
          ]
        },
        {
          "output_type": "stream",
          "name": "stderr",
          "text": [
            "\r  0%|          | 0/3434 [00:00<?, ?it/s]"
          ]
        },
        {
          "output_type": "display_data",
          "data": {
            "text/plain": [
              "<Figure size 144x72 with 2 Axes>"
            ],
            "image/png": "[encoded data removed]"
          },
          "metadata": {
            "needs_background": "light"
          }
        },
        {
          "output_type": "stream",
          "name": "stderr",
          "text": [
            " 14%|█▍        | 495/3434 [00:04<00:28, 104.78it/s]"
          ]
        },
        {
          "output_type": "display_data",
          "data": {
            "text/plain": [
              "<Figure size 144x72 with 2 Axes>"
            ],
            "image/png": "[encoded data removed]"
          },
          "metadata": {
            "needs_background": "light"
          }
        },
        {
          "output_type": "stream",
          "name": "stderr",
          "text": [
            " 29%|██▉       | 990/3434 [00:09<00:23, 104.53it/s]"
          ]
        },
        {
          "output_type": "display_data",
          "data": {
            "text/plain": [
              "<Figure size 144x72 with 2 Axes>"
            ],
            "image/png": "[encoded data removed]"
          },
          "metadata": {
            "needs_background": "light"
          }
        },
        {
          "output_type": "stream",
          "name": "stderr",
          "text": [
            " 44%|████▎     | 1496/3434 [00:14<00:18, 104.03it/s]"
          ]
        },
        {
          "output_type": "display_data",
          "data": {
            "text/plain": [
              "<Figure size 144x72 with 2 Axes>"
            ],
            "image/png": "[encoded data removed]"
          },
          "metadata": {
            "needs_background": "light"
          }
        },
        {
          "output_type": "stream",
          "name": "stderr",
          "text": [
            " 58%|█████▊    | 1991/3434 [00:19<00:13, 103.18it/s]"
          ]
        },
        {
          "output_type": "display_data",
          "data": {
            "text/plain": [
              "<Figure size 144x72 with 2 Axes>"
            ],
            "image/png": "[encoded data removed]"
          },
          "metadata": {
            "needs_background": "light"
          }
        },
        {
          "output_type": "stream",
          "name": "stderr",
          "text": [
            " 73%|███████▎  | 2497/3434 [00:24<00:08, 104.30it/s]"
          ]
        },
        {
          "output_type": "display_data",
          "data": {
            "text/plain": [
              "<Figure size 144x72 with 2 Axes>"
            ],
            "image/png": "[encoded data removed]"
          },
          "metadata": {
            "needs_background": "light"
          }
        },
        {
          "output_type": "stream",
          "name": "stderr",
          "text": [
            " 87%|████████▋ | 2991/3434 [00:29<00:04, 103.22it/s]"
          ]
        },
        {
          "output_type": "display_data",
          "data": {
            "text/plain": [
              "<Figure size 144x72 with 2 Axes>"
            ],
            "image/png": "[encoded data removed]"
          },
          "metadata": {
            "needs_background": "light"
          }
        },
        {
          "output_type": "stream",
          "name": "stderr",
          "text": [
            "100%|██████████| 3434/3434 [00:34<00:00, 100.33it/s]\n"
          ]
        }
      ],
      "source": [
        "### Training the DB-VAE ###\n",
        "\n",
        "# Hyperparameters\n",
        "batch_size = 32\n",
        "learning_rate = 5e-4\n",
        "latent_dim = 100\n",
        "\n",
        "# DB-VAE needs slightly more epochs to train since its more complex than \n",
        "# the standard classifier so we use 6 instead of 2\n",
        "num_epochs = 6  \n",
        "\n",
        "# instantiate a new DB-VAE model and optimizer\n",
        "dbvae = DB_VAE(100)\n",
        "optimizer = tf.keras.optimizers.Adam(learning_rate)\n",
        "\n",
        "# To define the training operation, we will use tf.function which is a powerful tool \n",
        "#   that lets us turn a Python function into a TensorFlow computation graph.\n",
        "@tf.function\n",
        "def debiasing_train_step(x, y):\n",
        "\n",
        "  with tf.GradientTape() as tape:\n",
        "    # Feed input x into dbvae. Note that this is using the DB_VAE call function!\n",
        "    y_logit, z_mean, z_logsigma, x_recon = dbvae(x)\n",
        "\n",
        "    '''TODO: call the DB_VAE loss function to compute the loss'''\n",
        "    loss, class_loss = debiasing_loss_function(x, x_recon, y, y_logit, z_mean, z_logsigma)\n",
        "    # loss, class_loss = debiasing_loss_function('''TODO arguments''') # TODO\n",
        "  \n",
        "  '''TODO: use the GradientTape.gradient method to compute the gradients.\n",
        "     Hint: this is with respect to the trainable_variables of the dbvae.'''\n",
        "  grads = tape.gradient(loss, dbvae.trainable_variables)\n",
        "  # grads = tape.gradient('''TODO''', '''TODO''') # TODO\n",
        "\n",
        "  # apply gradients to variables\n",
        "  optimizer.apply_gradients(zip(grads, dbvae.trainable_variables))\n",
        "  return loss\n",
        "\n",
        "# get training faces from data loader\n",
        "all_faces = loader.get_all_train_faces()\n",
        "\n",
        "if hasattr(tqdm, '_instances'): tqdm._instances.clear() # clear if it exists\n",
        "\n",
        "# The training loop -- outer loop iterates over the number of epochs\n",
        "for i in range(num_epochs):\n",
        "\n",
        "  IPython.display.clear_output(wait=True)\n",
        "  print(\"Starting epoch {}/{}\".format(i+1, num_epochs))\n",
        "\n",
        "  # Recompute data sampling proabilities\n",
        "  '''TODO: recompute the sampling probabilities for debiasing'''\n",
        "  p_faces = get_training_sample_probabilities(all_faces, dbvae)\n",
        "  # p_faces = get_training_sample_probabilities('''TODO''', '''TODO''') # TODO\n",
        "  \n",
        "  # get a batch of training data and compute the training step\n",
        "  for j in tqdm(range(loader.get_train_size() // batch_size)):\n",
        "    # load a batch of data\n",
        "    (x, y) = loader.get_batch(batch_size, p_pos=p_faces)\n",
        "    # loss optimization\n",
        "    loss = debiasing_train_step(x, y)\n",
        "    \n",
        "    # plot the progress every 200 steps\n",
        "    if j % 500 == 0: \n",
        "      mdl.util.plot_sample(x, y, dbvae)"
      ]
    },
    {
      "cell_type": "code",
      "execution_count": null,
      "metadata": {
        "id": "IOYQGHblYXmv",
        "colab": {
          "base_uri": "https://localhost:8080/",
          "height": 281
        },
        "outputId": "e265cdf4-b31d-46b0-8e17-6b9d4e3ec758"
      },
      "outputs": [
        {
          "output_type": "display_data",
          "data": {
            "text/plain": [
              "<Figure size 432x288 with 1 Axes>"
            ],
            "image/png": "[encoded data removed]"
          },
          "metadata": {
            "needs_background": "light"
          }
        }
      ],
      "source": [
        "dbvae_logits = [dbvae.predict(np.array(x, dtype=np.float32)) for x in test_faces]\n",
        "dbvae_probs = tf.squeeze(tf.sigmoid(dbvae_logits))\n",
        "\n",
        "xx = np.arange(len(keys))\n",
        "plt.bar(xx, standard_classifier_probs.numpy().mean(1), width=0.2, label=\"Standard CNN\")\n",
        "plt.bar(xx+0.2, dbvae_probs.numpy().mean(1), width=0.2, label=\"DB-VAE\")\n",
        "plt.xticks(xx, keys); \n",
        "plt.title(\"Network predictions on test dataset\")\n",
        "plt.ylabel(\"Probability\"); plt.legend(bbox_to_anchor=(1.04,1), loc=\"upper left\");"
      ]
    },
    {
      "cell_type": "markdown",
      "source": [
        "# load data from Google drive\n"
      ],
      "metadata": {
        "id": "PsGXWLi5cNkt"
      }
    },
    {
      "cell_type": "code",
      "execution_count": null,
      "metadata": {
        "id": "6mPcTFMPcCtd",
        "colab": {
          "base_uri": "https://localhost:8080/"
        },
        "outputId": "53d3e50f-c824-4914-bed0-f2bbe30c25d7"
      },
      "outputs": [
        {
          "output_type": "stream",
          "name": "stdout",
          "text": [
            "Mounted at /content/gdrive\n"
          ]
        }
      ],
      "source": [
        "from google.colab import drive\n",
        "drive.mount('/content/gdrive')"
      ]
    },
    {
      "cell_type": "code",
      "execution_count": null,
      "metadata": {
        "id": "a4whJVgjYXpl"
      },
      "outputs": [],
      "source": [
        "image = !unzip gdrive/MyDrive/CelebA/Img/img_align_celeba.zip"
      ]
    },
    {
      "cell_type": "code",
      "source": [
        "image"
      ],
      "metadata": {
        "colab": {
          "base_uri": "https://localhost:8080/"
        },
        "id": "NvqvAW_caCmS",
        "outputId": "7399c817-5d87-46f0-fe01-ab80e0486fec"
      },
      "execution_count": null,
      "outputs": [
        {
          "output_type": "execute_result",
          "data": {
            "text/plain": [
              "['Archive:  gdrive/MyDrive/CelebA/Img/img_align_celeba.zip',\n",
              " '   creating: img_align_celeba/',\n",
              " ' extracting: img_align_celeba/000001.jpg  ',\n",
              " ' extracting: img_align_celeba/000002.jpg  ',\n",
              " ' extracting: img_align_celeba/000003.jpg  ',\n",
              " ' extracting: img_align_celeba/000004.jpg  ',\n",
              " ' extracting: img_align_celeba/000005.jpg  ',\n",
              " ' extracting: img_align_celeba/000006.jpg  ',\n",
              " ' extracting: img_align_celeba/000007.jpg  ',\n",
              " ' extracting: img_align_celeba/000008.jpg  ',\n",
              " ' extracting: img_align_celeba/000009.jpg  ',\n",
              " ' extracting: img_align_celeba/000010.jpg  ',\n",
              " ' extracting: img_align_celeba/000011.jpg  ',\n",
              " ' extracting: img_align_celeba/000012.jpg  ',\n",
              " ' extracting: img_align_celeba/000013.jpg  ',\n",
              " ' extracting: img_align_celeba/000014.jpg  ',\n",
              " ' extracting: img_align_celeba/000015.jpg  ',\n",
              " ' extracting: img_align_celeba/000016.jpg  ',\n",
              " ' extracting: img_align_celeba/000017.jpg  ',\n",
              " ' extracting: img_align_celeba/000018.jpg  ',\n",
              " ' extracting: img_align_celeba/000019.jpg  ',\n",
              " ' extracting: img_align_celeba/000020.jpg  ',\n",
              " ' extracting: img_align_celeba/000021.jpg  ',\n",
              " ' extracting: img_align_celeba/000022.jpg  ',\n",
              " ' extracting: img_align_celeba/000023.jpg  ',\n",
              " ' extracting: img_align_celeba/000024.jpg  ',\n",
              " ' extracting: img_align_celeba/000025.jpg  ',\n",
              " ' extracting: img_align_celeba/000026.jpg  ',\n",
              " ' extracting: img_align_celeba/000027.jpg  ',\n",
              " ' extracting: img_align_celeba/000028.jpg  ',\n",
              " ' extracting: img_align_celeba/000029.jpg  ',\n",
              " ' extracting: img_align_celeba/000030.jpg  ',\n",
              " ' extracting: img_align_celeba/000031.jpg  ',\n",
              " ' extracting: img_align_celeba/000032.jpg  ',\n",
              " ' extracting: img_align_celeba/000033.jpg  ',\n",
              " ' extracting: img_align_celeba/000034.jpg  ',\n",
              " ' extracting: img_align_celeba/000035.jpg  ',\n",
              " ' extracting: img_align_celeba/000036.jpg  ',\n",
              " ' extracting: img_align_celeba/000037.jpg  ',\n",
              " ' extracting: img_align_celeba/000038.jpg  ',\n",
              " ' extracting: img_align_celeba/000039.jpg  ',\n",
              " ' extracting: img_align_celeba/000040.jpg  ',\n",
              " ' extracting: img_align_celeba/000041.jpg  ',\n",
              " ' extracting: img_align_celeba/000042.jpg  ',\n",
              " ' extracting: img_align_celeba/000043.jpg  ',\n",
              " ' extracting: img_align_celeba/000044.jpg  ',\n",
              " ' extracting: img_align_celeba/000045.jpg  ',\n",
              " ' extracting: img_align_celeba/000046.jpg  ',\n",
              " ' extracting: img_align_celeba/000047.jpg  ',\n",
              " ' extracting: img_align_celeba/000048.jpg  ',\n",
              " ' extracting: img_align_celeba/000049.jpg  ',\n",
              " ' extracting: img_align_celeba/000050.jpg  ',\n",
              " ' extracting: img_align_celeba/000051.jpg  ',\n",
              " ' extracting: img_align_celeba/000052.jpg  ',\n",
              " ' extracting: img_align_celeba/000053.jpg  ',\n",
              " ' extracting: img_align_celeba/000054.jpg  ',\n",
              " ' extracting: img_align_celeba/000055.jpg  ',\n",
              " ' extracting: img_align_celeba/000056.jpg  ',\n",
              " ' extracting: img_align_celeba/000057.jpg  ',\n",
              " ' extracting: img_align_celeba/000058.jpg  ',\n",
              " ' extracting: img_align_celeba/000059.jpg  ',\n",
              " ' extracting: img_align_celeba/000060.jpg  ',\n",
              " ' extracting: img_align_celeba/000061.jpg  ',\n",
              " ' extracting: img_align_celeba/000062.jpg  ',\n",
              " ' extracting: img_align_celeba/000063.jpg  ',\n",
              " ' extracting: img_align_celeba/000064.jpg  ',\n",
              " ' extracting: img_align_celeba/000065.jpg  ',\n",
              " ' extracting: img_align_celeba/000066.jpg  ',\n",
              " ' extracting: img_align_celeba/000067.jpg  ',\n",
              " ' extracting: img_align_celeba/000068.jpg  ',\n",
              " ' extracting: img_align_celeba/000069.jpg  ',\n",
              " ' extracting: img_align_celeba/000070.jpg  ',\n",
              " ' extracting: img_align_celeba/000071.jpg  ',\n",
              " ' extracting: img_align_celeba/000072.jpg  ',\n",
              " ' extracting: img_align_celeba/000073.jpg  ',\n",
              " ' extracting: img_align_celeba/000074.jpg  ',\n",
              " ' extracting: img_align_celeba/000075.jpg  ',\n",
              " ' extracting: img_align_celeba/000076.jpg  ',\n",
              " ' extracting: img_align_celeba/000077.jpg  ',\n",
              " ' extracting: img_align_celeba/000078.jpg  ',\n",
              " ' extracting: img_align_celeba/000079.jpg  ',\n",
              " ' extracting: img_align_celeba/000080.jpg  ',\n",
              " ' extracting: img_align_celeba/000081.jpg  ',\n",
              " ' extracting: img_align_celeba/000082.jpg  ',\n",
              " ' extracting: img_align_celeba/000083.jpg  ',\n",
              " ' extracting: img_align_celeba/000084.jpg  ',\n",
              " ' extracting: img_align_celeba/000085.jpg  ',\n",
              " ' extracting: img_align_celeba/000086.jpg  ',\n",
              " ' extracting: img_align_celeba/000087.jpg  ',\n",
              " ' extracting: img_align_celeba/000088.jpg  ',\n",
              " ' extracting: img_align_celeba/000089.jpg  ',\n",
              " ' extracting: img_align_celeba/000090.jpg  ',\n",
              " ' extracting: img_align_celeba/000091.jpg  ',\n",
              " ' extracting: img_align_celeba/000092.jpg  ',\n",
              " ' extracting: img_align_celeba/000093.jpg  ',\n",
              " ' extracting: img_align_celeba/000094.jpg  ',\n",
              " ' extracting: img_align_celeba/000095.jpg  ',\n",
              " ' extracting: img_align_celeba/000096.jpg  ',\n",
              " ' extracting: img_align_celeba/000097.jpg  ',\n",
              " ' extracting: img_align_celeba/000098.jpg  ',\n",
              " ' extracting: img_align_celeba/000099.jpg  ',\n",
              " ' extracting: img_align_celeba/000100.jpg  ',\n",
              " ' extracting: img_align_celeba/000101.jpg  ',\n",
              " ' extracting: img_align_celeba/000102.jpg  ',\n",
              " ' extracting: img_align_celeba/000103.jpg  ',\n",
              " ' extracting: img_align_celeba/000104.jpg  ',\n",
              " ' extracting: img_align_celeba/000105.jpg  ',\n",
              " ' extracting: img_align_celeba/000106.jpg  ',\n",
              " ' extracting: img_align_celeba/000107.jpg  ',\n",
              " ' extracting: img_align_celeba/000108.jpg  ',\n",
              " ' extracting: img_align_celeba/000109.jpg  ',\n",
              " ' extracting: img_align_celeba/000110.jpg  ',\n",
              " ' extracting: img_align_celeba/000111.jpg  ',\n",
              " ' extracting: img_align_celeba/000112.jpg  ',\n",
              " ' extracting: img_align_celeba/000113.jpg  ',\n",
              " ' extracting: img_align_celeba/000114.jpg  ',\n",
              " ' extracting: img_align_celeba/000115.jpg  ',\n",
              " ' extracting: img_align_celeba/000116.jpg  ',\n",
              " ' extracting: img_align_celeba/000117.jpg  ',\n",
              " ' extracting: img_align_celeba/000118.jpg  ',\n",
              " ' extracting: img_align_celeba/000119.jpg  ',\n",
              " ' extracting: img_align_celeba/000120.jpg  ',\n",
              " ' extracting: img_align_celeba/000121.jpg  ',\n",
              " ' extracting: img_align_celeba/000122.jpg  ',\n",
              " ' extracting: img_align_celeba/000123.jpg  ',\n",
              " ' extracting: img_align_celeba/000124.jpg  ',\n",
              " ' extracting: img_align_celeba/000125.jpg  ',\n",
              " ' extracting: img_align_celeba/000126.jpg  ',\n",
              " ' extracting: img_align_celeba/000127.jpg  ',\n",
              " ' extracting: img_align_celeba/000128.jpg  ',\n",
              " ' extracting: img_align_celeba/000129.jpg  ',\n",
              " ' extracting: img_align_celeba/000130.jpg  ',\n",
              " ' extracting: img_align_celeba/000131.jpg  ',\n",
              " ' extracting: img_align_celeba/000132.jpg  ',\n",
              " ' extracting: img_align_celeba/000133.jpg  ',\n",
              " ' extracting: img_align_celeba/000134.jpg  ',\n",
              " ' extracting: img_align_celeba/000135.jpg  ',\n",
              " ' extracting: img_align_celeba/000136.jpg  ',\n",
              " ' extracting: img_align_celeba/000137.jpg  ',\n",
              " ' extracting: img_align_celeba/000138.jpg  ',\n",
              " ' extracting: img_align_celeba/000139.jpg  ',\n",
              " ' extracting: img_align_celeba/000140.jpg  ',\n",
              " ' extracting: img_align_celeba/000141.jpg  ',\n",
              " ' extracting: img_align_celeba/000142.jpg  ',\n",
              " ' extracting: img_align_celeba/000143.jpg  ',\n",
              " ' extracting: img_align_celeba/000144.jpg  ',\n",
              " ' extracting: img_align_celeba/000145.jpg  ',\n",
              " ' extracting: img_align_celeba/000146.jpg  ',\n",
              " ' extracting: img_align_celeba/000147.jpg  ',\n",
              " ' extracting: img_align_celeba/000148.jpg  ',\n",
              " ' extracting: img_align_celeba/000149.jpg  ',\n",
              " ' extracting: img_align_celeba/000150.jpg  ',\n",
              " ' extracting: img_align_celeba/000151.jpg  ',\n",
              " ' extracting: img_align_celeba/000152.jpg  ',\n",
              " ' extracting: img_align_celeba/000153.jpg  ',\n",
              " ' extracting: img_align_celeba/000154.jpg  ',\n",
              " ' extracting: img_align_celeba/000155.jpg  ',\n",
              " ' extracting: img_align_celeba/000156.jpg  ',\n",
              " ' extracting: img_align_celeba/000157.jpg  ',\n",
              " ' extracting: img_align_celeba/000158.jpg  ',\n",
              " ' extracting: img_align_celeba/000159.jpg  ',\n",
              " ' extracting: img_align_celeba/000160.jpg  ',\n",
              " ' extracting: img_align_celeba/000161.jpg  ',\n",
              " ' extracting: img_align_celeba/000162.jpg  ',\n",
              " ' extracting: img_align_celeba/000163.jpg  ',\n",
              " ' extracting: img_align_celeba/000164.jpg  ',\n",
              " ' extracting: img_align_celeba/000165.jpg  ',\n",
              " ' extracting: img_align_celeba/000166.jpg  ',\n",
              " ' extracting: img_align_celeba/000167.jpg  ',\n",
              " ' extracting: img_align_celeba/000168.jpg  ',\n",
              " ' extracting: img_align_celeba/000169.jpg  ',\n",
              " ' extracting: img_align_celeba/000170.jpg  ',\n",
              " ' extracting: img_align_celeba/000171.jpg  ',\n",
              " ' extracting: img_align_celeba/000172.jpg  ',\n",
              " ' extracting: img_align_celeba/000173.jpg  ',\n",
              " ' extracting: img_align_celeba/000174.jpg  ',\n",
              " ' extracting: img_align_celeba/000175.jpg  ',\n",
              " ' extracting: img_align_celeba/000176.jpg  ',\n",
              " ' extracting: img_align_celeba/000177.jpg  ',\n",
              " ' extracting: img_align_celeba/000178.jpg  ',\n",
              " ' extracting: img_align_celeba/000179.jpg  ',\n",
              " ' extracting: img_align_celeba/000180.jpg  ',\n",
              " ' extracting: img_align_celeba/000181.jpg  ',\n",
              " ' extracting: img_align_celeba/000182.jpg  ',\n",
              " ' extracting: img_align_celeba/000183.jpg  ',\n",
              " ' extracting: img_align_celeba/000184.jpg  ',\n",
              " ' extracting: img_align_celeba/000185.jpg  ',\n",
              " ' extracting: img_align_celeba/000186.jpg  ',\n",
              " ' extracting: img_align_celeba/000187.jpg  ',\n",
              " ' extracting: img_align_celeba/000188.jpg  ',\n",
              " ' extracting: img_align_celeba/000189.jpg  ',\n",
              " ' extracting: img_align_celeba/000190.jpg  ',\n",
              " ' extracting: img_align_celeba/000191.jpg  ',\n",
              " ' extracting: img_align_celeba/000192.jpg  ',\n",
              " ' extracting: img_align_celeba/000193.jpg  ',\n",
              " ' extracting: img_align_celeba/000194.jpg  ',\n",
              " ' extracting: img_align_celeba/000195.jpg  ',\n",
              " ' extracting: img_align_celeba/000196.jpg  ',\n",
              " ' extracting: img_align_celeba/000197.jpg  ',\n",
              " ' extracting: img_align_celeba/000198.jpg  ',\n",
              " ' extracting: img_align_celeba/000199.jpg  ',\n",
              " ' extracting: img_align_celeba/000200.jpg  ',\n",
              " ' extracting: img_align_celeba/000201.jpg  ',\n",
              " ' extracting: img_align_celeba/000202.jpg  ',\n",
              " ' extracting: img_align_celeba/000203.jpg  ',\n",
              " ' extracting: img_align_celeba/000204.jpg  ',\n",
              " ' extracting: img_align_celeba/000205.jpg  ',\n",
              " ' extracting: img_align_celeba/000206.jpg  ',\n",
              " ' extracting: img_align_celeba/000207.jpg  ',\n",
              " ' extracting: img_align_celeba/000208.jpg  ',\n",
              " ' extracting: img_align_celeba/000209.jpg  ',\n",
              " ' extracting: img_align_celeba/000210.jpg  ',\n",
              " ' extracting: img_align_celeba/000211.jpg  ',\n",
              " ' extracting: img_align_celeba/000212.jpg  ',\n",
              " ' extracting: img_align_celeba/000213.jpg  ',\n",
              " ' extracting: img_align_celeba/000214.jpg  ',\n",
              " ' extracting: img_align_celeba/000215.jpg  ',\n",
              " ' extracting: img_align_celeba/000216.jpg  ',\n",
              " ' extracting: img_align_celeba/000217.jpg  ',\n",
              " ' extracting: img_align_celeba/000218.jpg  ',\n",
              " ' extracting: img_align_celeba/000219.jpg  ',\n",
              " ' extracting: img_align_celeba/000220.jpg  ',\n",
              " ' extracting: img_align_celeba/000221.jpg  ',\n",
              " ' extracting: img_align_celeba/000222.jpg  ',\n",
              " ' extracting: img_align_celeba/000223.jpg  ',\n",
              " ' extracting: img_align_celeba/000224.jpg  ',\n",
              " ' extracting: img_align_celeba/000225.jpg  ',\n",
              " ' extracting: img_align_celeba/000226.jpg  ',\n",
              " ' extracting: img_align_celeba/000227.jpg  ',\n",
              " ' extracting: img_align_celeba/000228.jpg  ',\n",
              " ' extracting: img_align_celeba/000229.jpg  ',\n",
              " ' extracting: img_align_celeba/000230.jpg  ',\n",
              " ' extracting: img_align_celeba/000231.jpg  ',\n",
              " ' extracting: img_align_celeba/000232.jpg  ',\n",
              " ' extracting: img_align_celeba/000233.jpg  ',\n",
              " ' extracting: img_align_celeba/000234.jpg  ',\n",
              " ' extracting: img_align_celeba/000235.jpg  ',\n",
              " ' extracting: img_align_celeba/000236.jpg  ',\n",
              " ' extracting: img_align_celeba/000237.jpg  ',\n",
              " ' extracting: img_align_celeba/000238.jpg  ',\n",
              " ' extracting: img_align_celeba/000239.jpg  ',\n",
              " ' extracting: img_align_celeba/000240.jpg  ',\n",
              " ' extracting: img_align_celeba/000241.jpg  ',\n",
              " ' extracting: img_align_celeba/000242.jpg  ',\n",
              " ' extracting: img_align_celeba/000243.jpg  ',\n",
              " ' extracting: img_align_celeba/000244.jpg  ',\n",
              " ' extracting: img_align_celeba/000245.jpg  ',\n",
              " ' extracting: img_align_celeba/000246.jpg  ',\n",
              " ' extracting: img_align_celeba/000247.jpg  ',\n",
              " ' extracting: img_align_celeba/000248.jpg  ',\n",
              " ' extracting: img_align_celeba/000249.jpg  ',\n",
              " ' extracting: img_align_celeba/000250.jpg  ',\n",
              " ' extracting: img_align_celeba/000251.jpg  ',\n",
              " ' extracting: img_align_celeba/000252.jpg  ',\n",
              " ' extracting: img_align_celeba/000253.jpg  ',\n",
              " ' extracting: img_align_celeba/000254.jpg  ',\n",
              " ' extracting: img_align_celeba/000255.jpg  ',\n",
              " ' extracting: img_align_celeba/000256.jpg  ',\n",
              " ' extracting: img_align_celeba/000257.jpg  ',\n",
              " ' extracting: img_align_celeba/000258.jpg  ',\n",
              " ' extracting: img_align_celeba/000259.jpg  ',\n",
              " ' extracting: img_align_celeba/000260.jpg  ',\n",
              " ' extracting: img_align_celeba/000261.jpg  ',\n",
              " ' extracting: img_align_celeba/000262.jpg  ',\n",
              " ' extracting: img_align_celeba/000263.jpg  ',\n",
              " ' extracting: img_align_celeba/000264.jpg  ',\n",
              " ' extracting: img_align_celeba/000265.jpg  ',\n",
              " ' extracting: img_align_celeba/000266.jpg  ',\n",
              " ' extracting: img_align_celeba/000267.jpg  ',\n",
              " ' extracting: img_align_celeba/000268.jpg  ',\n",
              " ' extracting: img_align_celeba/000269.jpg  ',\n",
              " ' extracting: img_align_celeba/000270.jpg  ',\n",
              " ' extracting: img_align_celeba/000271.jpg  ',\n",
              " ' extracting: img_align_celeba/000272.jpg  ',\n",
              " ' extracting: img_align_celeba/000273.jpg  ',\n",
              " ' extracting: img_align_celeba/000274.jpg  ',\n",
              " ' extracting: img_align_celeba/000275.jpg  ',\n",
              " ' extracting: img_align_celeba/000276.jpg  ',\n",
              " ' extracting: img_align_celeba/000277.jpg  ',\n",
              " ' extracting: img_align_celeba/000278.jpg  ',\n",
              " ' extracting: img_align_celeba/000279.jpg  ',\n",
              " ' extracting: img_align_celeba/000280.jpg  ',\n",
              " ' extracting: img_align_celeba/000281.jpg  ',\n",
              " ' extracting: img_align_celeba/000282.jpg  ',\n",
              " ' extracting: img_align_celeba/000283.jpg  ',\n",
              " ' extracting: img_align_celeba/000284.jpg  ',\n",
              " ' extracting: img_align_celeba/000285.jpg  ',\n",
              " ' extracting: img_align_celeba/000286.jpg  ',\n",
              " ' extracting: img_align_celeba/000287.jpg  ',\n",
              " ' extracting: img_align_celeba/000288.jpg  ',\n",
              " ' extracting: img_align_celeba/000289.jpg  ',\n",
              " ' extracting: img_align_celeba/000290.jpg  ',\n",
              " ' extracting: img_align_celeba/000291.jpg  ',\n",
              " ' extracting: img_align_celeba/000292.jpg  ',\n",
              " ' extracting: img_align_celeba/000293.jpg  ',\n",
              " ' extracting: img_align_celeba/000294.jpg  ',\n",
              " ' extracting: img_align_celeba/000295.jpg  ',\n",
              " ' extracting: img_align_celeba/000296.jpg  ',\n",
              " ' extracting: img_align_celeba/000297.jpg  ',\n",
              " ' extracting: img_align_celeba/000298.jpg  ',\n",
              " ' extracting: img_align_celeba/000299.jpg  ',\n",
              " ' extracting: img_align_celeba/000300.jpg  ',\n",
              " ' extracting: img_align_celeba/000301.jpg  ',\n",
              " ' extracting: img_align_celeba/000302.jpg  ',\n",
              " ' extracting: img_align_celeba/000303.jpg  ',\n",
              " ' extracting: img_align_celeba/000304.jpg  ',\n",
              " ' extracting: img_align_celeba/000305.jpg  ',\n",
              " ' extracting: img_align_celeba/000306.jpg  ',\n",
              " ' extracting: img_align_celeba/000307.jpg  ',\n",
              " ' extracting: img_align_celeba/000308.jpg  ',\n",
              " ' extracting: img_align_celeba/000309.jpg  ',\n",
              " ' extracting: img_align_celeba/000310.jpg  ',\n",
              " ' extracting: img_align_celeba/000311.jpg  ',\n",
              " ' extracting: img_align_celeba/000312.jpg  ',\n",
              " ' extracting: img_align_celeba/000313.jpg  ',\n",
              " ' extracting: img_align_celeba/000314.jpg  ',\n",
              " ' extracting: img_align_celeba/000315.jpg  ',\n",
              " ' extracting: img_align_celeba/000316.jpg  ',\n",
              " ' extracting: img_align_celeba/000317.jpg  ',\n",
              " ' extracting: img_align_celeba/000318.jpg  ',\n",
              " ' extracting: img_align_celeba/000319.jpg  ',\n",
              " ' extracting: img_align_celeba/000320.jpg  ',\n",
              " ' extracting: img_align_celeba/000321.jpg  ',\n",
              " ' extracting: img_align_celeba/000322.jpg  ',\n",
              " ' extracting: img_align_celeba/000323.jpg  ',\n",
              " ' extracting: img_align_celeba/000324.jpg  ',\n",
              " ' extracting: img_align_celeba/000325.jpg  ',\n",
              " ' extracting: img_align_celeba/000326.jpg  ',\n",
              " ' extracting: img_align_celeba/000327.jpg  ',\n",
              " ' extracting: img_align_celeba/000328.jpg  ',\n",
              " ' extracting: img_align_celeba/000329.jpg  ',\n",
              " ' extracting: img_align_celeba/000330.jpg  ',\n",
              " ' extracting: img_align_celeba/000331.jpg  ',\n",
              " ' extracting: img_align_celeba/000332.jpg  ',\n",
              " ' extracting: img_align_celeba/000333.jpg  ',\n",
              " ' extracting: img_align_celeba/000334.jpg  ',\n",
              " ' extracting: img_align_celeba/000335.jpg  ',\n",
              " ' extracting: img_align_celeba/000336.jpg  ',\n",
              " ' extracting: img_align_celeba/000337.jpg  ',\n",
              " ' extracting: img_align_celeba/000338.jpg  ',\n",
              " ' extracting: img_align_celeba/000339.jpg  ',\n",
              " ' extracting: img_align_celeba/000340.jpg  ',\n",
              " ' extracting: img_align_celeba/000341.jpg  ',\n",
              " ' extracting: img_align_celeba/000342.jpg  ',\n",
              " ' extracting: img_align_celeba/000343.jpg  ',\n",
              " ' extracting: img_align_celeba/000344.jpg  ',\n",
              " ' extracting: img_align_celeba/000345.jpg  ',\n",
              " ' extracting: img_align_celeba/000346.jpg  ',\n",
              " ' extracting: img_align_celeba/000347.jpg  ',\n",
              " ' extracting: img_align_celeba/000348.jpg  ',\n",
              " ' extracting: img_align_celeba/000349.jpg  ',\n",
              " ' extracting: img_align_celeba/000350.jpg  ',\n",
              " ' extracting: img_align_celeba/000351.jpg  ',\n",
              " ' extracting: img_align_celeba/000352.jpg  ',\n",
              " ' extracting: img_align_celeba/000353.jpg  ',\n",
              " ' extracting: img_align_celeba/000354.jpg  ',\n",
              " ' extracting: img_align_celeba/000355.jpg  ',\n",
              " ' extracting: img_align_celeba/000356.jpg  ',\n",
              " ' extracting: img_align_celeba/000357.jpg  ',\n",
              " ' extracting: img_align_celeba/000358.jpg  ',\n",
              " ' extracting: img_align_celeba/000359.jpg  ',\n",
              " ' extracting: img_align_celeba/000360.jpg  ',\n",
              " ' extracting: img_align_celeba/000361.jpg  ',\n",
              " ' extracting: img_align_celeba/000362.jpg  ',\n",
              " ' extracting: img_align_celeba/000363.jpg  ',\n",
              " ' extracting: img_align_celeba/000364.jpg  ',\n",
              " ' extracting: img_align_celeba/000365.jpg  ',\n",
              " ' extracting: img_align_celeba/000366.jpg  ',\n",
              " ' extracting: img_align_celeba/000367.jpg  ',\n",
              " ' extracting: img_align_celeba/000368.jpg  ',\n",
              " ' extracting: img_align_celeba/000369.jpg  ',\n",
              " ' extracting: img_align_celeba/000370.jpg  ',\n",
              " ' extracting: img_align_celeba/000371.jpg  ',\n",
              " ' extracting: img_align_celeba/000372.jpg  ',\n",
              " ' extracting: img_align_celeba/000373.jpg  ',\n",
              " ' extracting: img_align_celeba/000374.jpg  ',\n",
              " ' extracting: img_align_celeba/000375.jpg  ',\n",
              " ' extracting: img_align_celeba/000376.jpg  ',\n",
              " ' extracting: img_align_celeba/000377.jpg  ',\n",
              " ' extracting: img_align_celeba/000378.jpg  ',\n",
              " ' extracting: img_align_celeba/000379.jpg  ',\n",
              " ' extracting: img_align_celeba/000380.jpg  ',\n",
              " ' extracting: img_align_celeba/000381.jpg  ',\n",
              " ' extracting: img_align_celeba/000382.jpg  ',\n",
              " ' extracting: img_align_celeba/000383.jpg  ',\n",
              " ' extracting: img_align_celeba/000384.jpg  ',\n",
              " ' extracting: img_align_celeba/000385.jpg  ',\n",
              " ' extracting: img_align_celeba/000386.jpg  ',\n",
              " ' extracting: img_align_celeba/000387.jpg  ',\n",
              " ' extracting: img_align_celeba/000388.jpg  ',\n",
              " ' extracting: img_align_celeba/000389.jpg  ',\n",
              " ' extracting: img_align_celeba/000390.jpg  ',\n",
              " ' extracting: img_align_celeba/000391.jpg  ',\n",
              " ' extracting: img_align_celeba/000392.jpg  ',\n",
              " ' extracting: img_align_celeba/000393.jpg  ',\n",
              " ' extracting: img_align_celeba/000394.jpg  ',\n",
              " ' extracting: img_align_celeba/000395.jpg  ',\n",
              " ' extracting: img_align_celeba/000396.jpg  ',\n",
              " ' extracting: img_align_celeba/000397.jpg  ',\n",
              " ' extracting: img_align_celeba/000398.jpg  ',\n",
              " ' extracting: img_align_celeba/000399.jpg  ',\n",
              " ' extracting: img_align_celeba/000400.jpg  ',\n",
              " ' extracting: img_align_celeba/000401.jpg  ',\n",
              " ' extracting: img_align_celeba/000402.jpg  ',\n",
              " ' extracting: img_align_celeba/000403.jpg  ',\n",
              " ' extracting: img_align_celeba/000404.jpg  ',\n",
              " ' extracting: img_align_celeba/000405.jpg  ',\n",
              " ' extracting: img_align_celeba/000406.jpg  ',\n",
              " ' extracting: img_align_celeba/000407.jpg  ',\n",
              " ' extracting: img_align_celeba/000408.jpg  ',\n",
              " ' extracting: img_align_celeba/000409.jpg  ',\n",
              " ' extracting: img_align_celeba/000410.jpg  ',\n",
              " ' extracting: img_align_celeba/000411.jpg  ',\n",
              " ' extracting: img_align_celeba/000412.jpg  ',\n",
              " ' extracting: img_align_celeba/000413.jpg  ',\n",
              " ' extracting: img_align_celeba/000414.jpg  ',\n",
              " ' extracting: img_align_celeba/000415.jpg  ',\n",
              " ' extracting: img_align_celeba/000416.jpg  ',\n",
              " ' extracting: img_align_celeba/000417.jpg  ',\n",
              " ' extracting: img_align_celeba/000418.jpg  ',\n",
              " ' extracting: img_align_celeba/000419.jpg  ',\n",
              " ' extracting: img_align_celeba/000420.jpg  ',\n",
              " ' extracting: img_align_celeba/000421.jpg  ',\n",
              " ' extracting: img_align_celeba/000422.jpg  ',\n",
              " ' extracting: img_align_celeba/000423.jpg  ',\n",
              " ' extracting: img_align_celeba/000424.jpg  ',\n",
              " ' extracting: img_align_celeba/000425.jpg  ',\n",
              " ' extracting: img_align_celeba/000426.jpg  ',\n",
              " ' extracting: img_align_celeba/000427.jpg  ',\n",
              " ' extracting: img_align_celeba/000428.jpg  ',\n",
              " ' extracting: img_align_celeba/000429.jpg  ',\n",
              " ' extracting: img_align_celeba/000430.jpg  ',\n",
              " ' extracting: img_align_celeba/000431.jpg  ',\n",
              " ' extracting: img_align_celeba/000432.jpg  ',\n",
              " ' extracting: img_align_celeba/000433.jpg  ',\n",
              " ' extracting: img_align_celeba/000434.jpg  ',\n",
              " ' extracting: img_align_celeba/000435.jpg  ',\n",
              " ' extracting: img_align_celeba/000436.jpg  ',\n",
              " ' extracting: img_align_celeba/000437.jpg  ',\n",
              " ' extracting: img_align_celeba/000438.jpg  ',\n",
              " ' extracting: img_align_celeba/000439.jpg  ',\n",
              " ' extracting: img_align_celeba/000440.jpg  ',\n",
              " ' extracting: img_align_celeba/000441.jpg  ',\n",
              " ' extracting: img_align_celeba/000442.jpg  ',\n",
              " ' extracting: img_align_celeba/000443.jpg  ',\n",
              " ' extracting: img_align_celeba/000444.jpg  ',\n",
              " ' extracting: img_align_celeba/000445.jpg  ',\n",
              " ' extracting: img_align_celeba/000446.jpg  ',\n",
              " ' extracting: img_align_celeba/000447.jpg  ',\n",
              " ' extracting: img_align_celeba/000448.jpg  ',\n",
              " ' extracting: img_align_celeba/000449.jpg  ',\n",
              " ' extracting: img_align_celeba/000450.jpg  ',\n",
              " ' extracting: img_align_celeba/000451.jpg  ',\n",
              " ' extracting: img_align_celeba/000452.jpg  ',\n",
              " ' extracting: img_align_celeba/000453.jpg  ',\n",
              " ' extracting: img_align_celeba/000454.jpg  ',\n",
              " ' extracting: img_align_celeba/000455.jpg  ',\n",
              " ' extracting: img_align_celeba/000456.jpg  ',\n",
              " ' extracting: img_align_celeba/000457.jpg  ',\n",
              " ' extracting: img_align_celeba/000458.jpg  ',\n",
              " ' extracting: img_align_celeba/000459.jpg  ',\n",
              " ' extracting: img_align_celeba/000460.jpg  ',\n",
              " ' extracting: img_align_celeba/000461.jpg  ',\n",
              " ' extracting: img_align_celeba/000462.jpg  ',\n",
              " ' extracting: img_align_celeba/000463.jpg  ',\n",
              " ' extracting: img_align_celeba/000464.jpg  ',\n",
              " ' extracting: img_align_celeba/000465.jpg  ',\n",
              " ' extracting: img_align_celeba/000466.jpg  ',\n",
              " ' extracting: img_align_celeba/000467.jpg  ',\n",
              " ' extracting: img_align_celeba/000468.jpg  ',\n",
              " ' extracting: img_align_celeba/000469.jpg  ',\n",
              " ' extracting: img_align_celeba/000470.jpg  ',\n",
              " ' extracting: img_align_celeba/000471.jpg  ',\n",
              " ' extracting: img_align_celeba/000472.jpg  ',\n",
              " ' extracting: img_align_celeba/000473.jpg  ',\n",
              " ' extracting: img_align_celeba/000474.jpg  ',\n",
              " ' extracting: img_align_celeba/000475.jpg  ',\n",
              " ' extracting: img_align_celeba/000476.jpg  ',\n",
              " ' extracting: img_align_celeba/000477.jpg  ',\n",
              " ' extracting: img_align_celeba/000478.jpg  ',\n",
              " ' extracting: img_align_celeba/000479.jpg  ',\n",
              " ' extracting: img_align_celeba/000480.jpg  ',\n",
              " ' extracting: img_align_celeba/000481.jpg  ',\n",
              " ' extracting: img_align_celeba/000482.jpg  ',\n",
              " ' extracting: img_align_celeba/000483.jpg  ',\n",
              " ' extracting: img_align_celeba/000484.jpg  ',\n",
              " ' extracting: img_align_celeba/000485.jpg  ',\n",
              " ' extracting: img_align_celeba/000486.jpg  ',\n",
              " ' extracting: img_align_celeba/000487.jpg  ',\n",
              " ' extracting: img_align_celeba/000488.jpg  ',\n",
              " ' extracting: img_align_celeba/000489.jpg  ',\n",
              " ' extracting: img_align_celeba/000490.jpg  ',\n",
              " ' extracting: img_align_celeba/000491.jpg  ',\n",
              " ' extracting: img_align_celeba/000492.jpg  ',\n",
              " ' extracting: img_align_celeba/000493.jpg  ',\n",
              " ' extracting: img_align_celeba/000494.jpg  ',\n",
              " ' extracting: img_align_celeba/000495.jpg  ',\n",
              " ' extracting: img_align_celeba/000496.jpg  ',\n",
              " ' extracting: img_align_celeba/000497.jpg  ',\n",
              " ' extracting: img_align_celeba/000498.jpg  ',\n",
              " ' extracting: img_align_celeba/000499.jpg  ',\n",
              " ' extracting: img_align_celeba/000500.jpg  ',\n",
              " ' extracting: img_align_celeba/000501.jpg  ',\n",
              " ' extracting: img_align_celeba/000502.jpg  ',\n",
              " ' extracting: img_align_celeba/000503.jpg  ',\n",
              " ' extracting: img_align_celeba/000504.jpg  ',\n",
              " ' extracting: img_align_celeba/000505.jpg  ',\n",
              " ' extracting: img_align_celeba/000506.jpg  ',\n",
              " ' extracting: img_align_celeba/000507.jpg  ',\n",
              " ' extracting: img_align_celeba/000508.jpg  ',\n",
              " ' extracting: img_align_celeba/000509.jpg  ',\n",
              " ' extracting: img_align_celeba/000510.jpg  ',\n",
              " ' extracting: img_align_celeba/000511.jpg  ',\n",
              " ' extracting: img_align_celeba/000512.jpg  ',\n",
              " ' extracting: img_align_celeba/000513.jpg  ',\n",
              " ' extracting: img_align_celeba/000514.jpg  ',\n",
              " ' extracting: img_align_celeba/000515.jpg  ',\n",
              " ' extracting: img_align_celeba/000516.jpg  ',\n",
              " ' extracting: img_align_celeba/000517.jpg  ',\n",
              " ' extracting: img_align_celeba/000518.jpg  ',\n",
              " ' extracting: img_align_celeba/000519.jpg  ',\n",
              " ' extracting: img_align_celeba/000520.jpg  ',\n",
              " ' extracting: img_align_celeba/000521.jpg  ',\n",
              " ' extracting: img_align_celeba/000522.jpg  ',\n",
              " ' extracting: img_align_celeba/000523.jpg  ',\n",
              " ' extracting: img_align_celeba/000524.jpg  ',\n",
              " ' extracting: img_align_celeba/000525.jpg  ',\n",
              " ' extracting: img_align_celeba/000526.jpg  ',\n",
              " ' extracting: img_align_celeba/000527.jpg  ',\n",
              " ' extracting: img_align_celeba/000528.jpg  ',\n",
              " ' extracting: img_align_celeba/000529.jpg  ',\n",
              " ' extracting: img_align_celeba/000530.jpg  ',\n",
              " ' extracting: img_align_celeba/000531.jpg  ',\n",
              " ' extracting: img_align_celeba/000532.jpg  ',\n",
              " ' extracting: img_align_celeba/000533.jpg  ',\n",
              " ' extracting: img_align_celeba/000534.jpg  ',\n",
              " ' extracting: img_align_celeba/000535.jpg  ',\n",
              " ' extracting: img_align_celeba/000536.jpg  ',\n",
              " ' extracting: img_align_celeba/000537.jpg  ',\n",
              " ' extracting: img_align_celeba/000538.jpg  ',\n",
              " ' extracting: img_align_celeba/000539.jpg  ',\n",
              " ' extracting: img_align_celeba/000540.jpg  ',\n",
              " ' extracting: img_align_celeba/000541.jpg  ',\n",
              " ' extracting: img_align_celeba/000542.jpg  ',\n",
              " ' extracting: img_align_celeba/000543.jpg  ',\n",
              " ' extracting: img_align_celeba/000544.jpg  ',\n",
              " ' extracting: img_align_celeba/000545.jpg  ',\n",
              " ' extracting: img_align_celeba/000546.jpg  ',\n",
              " ' extracting: img_align_celeba/000547.jpg  ',\n",
              " ' extracting: img_align_celeba/000548.jpg  ',\n",
              " ' extracting: img_align_celeba/000549.jpg  ',\n",
              " ' extracting: img_align_celeba/000550.jpg  ',\n",
              " ' extracting: img_align_celeba/000551.jpg  ',\n",
              " ' extracting: img_align_celeba/000552.jpg  ',\n",
              " ' extracting: img_align_celeba/000553.jpg  ',\n",
              " ' extracting: img_align_celeba/000554.jpg  ',\n",
              " ' extracting: img_align_celeba/000555.jpg  ',\n",
              " ' extracting: img_align_celeba/000556.jpg  ',\n",
              " ' extracting: img_align_celeba/000557.jpg  ',\n",
              " ' extracting: img_align_celeba/000558.jpg  ',\n",
              " ' extracting: img_align_celeba/000559.jpg  ',\n",
              " ' extracting: img_align_celeba/000560.jpg  ',\n",
              " ' extracting: img_align_celeba/000561.jpg  ',\n",
              " ' extracting: img_align_celeba/000562.jpg  ',\n",
              " ' extracting: img_align_celeba/000563.jpg  ',\n",
              " ' extracting: img_align_celeba/000564.jpg  ',\n",
              " ' extracting: img_align_celeba/000565.jpg  ',\n",
              " ' extracting: img_align_celeba/000566.jpg  ',\n",
              " ' extracting: img_align_celeba/000567.jpg  ',\n",
              " ' extracting: img_align_celeba/000568.jpg  ',\n",
              " ' extracting: img_align_celeba/000569.jpg  ',\n",
              " ' extracting: img_align_celeba/000570.jpg  ',\n",
              " ' extracting: img_align_celeba/000571.jpg  ',\n",
              " ' extracting: img_align_celeba/000572.jpg  ',\n",
              " ' extracting: img_align_celeba/000573.jpg  ',\n",
              " ' extracting: img_align_celeba/000574.jpg  ',\n",
              " ' extracting: img_align_celeba/000575.jpg  ',\n",
              " ' extracting: img_align_celeba/000576.jpg  ',\n",
              " ' extracting: img_align_celeba/000577.jpg  ',\n",
              " ' extracting: img_align_celeba/000578.jpg  ',\n",
              " ' extracting: img_align_celeba/000579.jpg  ',\n",
              " ' extracting: img_align_celeba/000580.jpg  ',\n",
              " ' extracting: img_align_celeba/000581.jpg  ',\n",
              " ' extracting: img_align_celeba/000582.jpg  ',\n",
              " ' extracting: img_align_celeba/000583.jpg  ',\n",
              " ' extracting: img_align_celeba/000584.jpg  ',\n",
              " ' extracting: img_align_celeba/000585.jpg  ',\n",
              " ' extracting: img_align_celeba/000586.jpg  ',\n",
              " ' extracting: img_align_celeba/000587.jpg  ',\n",
              " ' extracting: img_align_celeba/000588.jpg  ',\n",
              " ' extracting: img_align_celeba/000589.jpg  ',\n",
              " ' extracting: img_align_celeba/000590.jpg  ',\n",
              " ' extracting: img_align_celeba/000591.jpg  ',\n",
              " ' extracting: img_align_celeba/000592.jpg  ',\n",
              " ' extracting: img_align_celeba/000593.jpg  ',\n",
              " ' extracting: img_align_celeba/000594.jpg  ',\n",
              " ' extracting: img_align_celeba/000595.jpg  ',\n",
              " ' extracting: img_align_celeba/000596.jpg  ',\n",
              " ' extracting: img_align_celeba/000597.jpg  ',\n",
              " ' extracting: img_align_celeba/000598.jpg  ',\n",
              " ' extracting: img_align_celeba/000599.jpg  ',\n",
              " ' extracting: img_align_celeba/000600.jpg  ',\n",
              " ' extracting: img_align_celeba/000601.jpg  ',\n",
              " ' extracting: img_align_celeba/000602.jpg  ',\n",
              " ' extracting: img_align_celeba/000603.jpg  ',\n",
              " ' extracting: img_align_celeba/000604.jpg  ',\n",
              " ' extracting: img_align_celeba/000605.jpg  ',\n",
              " ' extracting: img_align_celeba/000606.jpg  ',\n",
              " ' extracting: img_align_celeba/000607.jpg  ',\n",
              " ' extracting: img_align_celeba/000608.jpg  ',\n",
              " ' extracting: img_align_celeba/000609.jpg  ',\n",
              " ' extracting: img_align_celeba/000610.jpg  ',\n",
              " ' extracting: img_align_celeba/000611.jpg  ',\n",
              " ' extracting: img_align_celeba/000612.jpg  ',\n",
              " ' extracting: img_align_celeba/000613.jpg  ',\n",
              " ' extracting: img_align_celeba/000614.jpg  ',\n",
              " ' extracting: img_align_celeba/000615.jpg  ',\n",
              " ' extracting: img_align_celeba/000616.jpg  ',\n",
              " ' extracting: img_align_celeba/000617.jpg  ',\n",
              " ' extracting: img_align_celeba/000618.jpg  ',\n",
              " ' extracting: img_align_celeba/000619.jpg  ',\n",
              " ' extracting: img_align_celeba/000620.jpg  ',\n",
              " ' extracting: img_align_celeba/000621.jpg  ',\n",
              " ' extracting: img_align_celeba/000622.jpg  ',\n",
              " ' extracting: img_align_celeba/000623.jpg  ',\n",
              " ' extracting: img_align_celeba/000624.jpg  ',\n",
              " ' extracting: img_align_celeba/000625.jpg  ',\n",
              " ' extracting: img_align_celeba/000626.jpg  ',\n",
              " ' extracting: img_align_celeba/000627.jpg  ',\n",
              " ' extracting: img_align_celeba/000628.jpg  ',\n",
              " ' extracting: img_align_celeba/000629.jpg  ',\n",
              " ' extracting: img_align_celeba/000630.jpg  ',\n",
              " ' extracting: img_align_celeba/000631.jpg  ',\n",
              " ' extracting: img_align_celeba/000632.jpg  ',\n",
              " ' extracting: img_align_celeba/000633.jpg  ',\n",
              " ' extracting: img_align_celeba/000634.jpg  ',\n",
              " ' extracting: img_align_celeba/000635.jpg  ',\n",
              " ' extracting: img_align_celeba/000636.jpg  ',\n",
              " ' extracting: img_align_celeba/000637.jpg  ',\n",
              " ' extracting: img_align_celeba/000638.jpg  ',\n",
              " ' extracting: img_align_celeba/000639.jpg  ',\n",
              " ' extracting: img_align_celeba/000640.jpg  ',\n",
              " ' extracting: img_align_celeba/000641.jpg  ',\n",
              " ' extracting: img_align_celeba/000642.jpg  ',\n",
              " ' extracting: img_align_celeba/000643.jpg  ',\n",
              " ' extracting: img_align_celeba/000644.jpg  ',\n",
              " ' extracting: img_align_celeba/000645.jpg  ',\n",
              " ' extracting: img_align_celeba/000646.jpg  ',\n",
              " ' extracting: img_align_celeba/000647.jpg  ',\n",
              " ' extracting: img_align_celeba/000648.jpg  ',\n",
              " ' extracting: img_align_celeba/000649.jpg  ',\n",
              " ' extracting: img_align_celeba/000650.jpg  ',\n",
              " ' extracting: img_align_celeba/000651.jpg  ',\n",
              " ' extracting: img_align_celeba/000652.jpg  ',\n",
              " ' extracting: img_align_celeba/000653.jpg  ',\n",
              " ' extracting: img_align_celeba/000654.jpg  ',\n",
              " ' extracting: img_align_celeba/000655.jpg  ',\n",
              " ' extracting: img_align_celeba/000656.jpg  ',\n",
              " ' extracting: img_align_celeba/000657.jpg  ',\n",
              " ' extracting: img_align_celeba/000658.jpg  ',\n",
              " ' extracting: img_align_celeba/000659.jpg  ',\n",
              " ' extracting: img_align_celeba/000660.jpg  ',\n",
              " ' extracting: img_align_celeba/000661.jpg  ',\n",
              " ' extracting: img_align_celeba/000662.jpg  ',\n",
              " ' extracting: img_align_celeba/000663.jpg  ',\n",
              " ' extracting: img_align_celeba/000664.jpg  ',\n",
              " ' extracting: img_align_celeba/000665.jpg  ',\n",
              " ' extracting: img_align_celeba/000666.jpg  ',\n",
              " ' extracting: img_align_celeba/000667.jpg  ',\n",
              " ' extracting: img_align_celeba/000668.jpg  ',\n",
              " ' extracting: img_align_celeba/000669.jpg  ',\n",
              " ' extracting: img_align_celeba/000670.jpg  ',\n",
              " ' extracting: img_align_celeba/000671.jpg  ',\n",
              " ' extracting: img_align_celeba/000672.jpg  ',\n",
              " ' extracting: img_align_celeba/000673.jpg  ',\n",
              " ' extracting: img_align_celeba/000674.jpg  ',\n",
              " ' extracting: img_align_celeba/000675.jpg  ',\n",
              " ' extracting: img_align_celeba/000676.jpg  ',\n",
              " ' extracting: img_align_celeba/000677.jpg  ',\n",
              " ' extracting: img_align_celeba/000678.jpg  ',\n",
              " ' extracting: img_align_celeba/000679.jpg  ',\n",
              " ' extracting: img_align_celeba/000680.jpg  ',\n",
              " ' extracting: img_align_celeba/000681.jpg  ',\n",
              " ' extracting: img_align_celeba/000682.jpg  ',\n",
              " ' extracting: img_align_celeba/000683.jpg  ',\n",
              " ' extracting: img_align_celeba/000684.jpg  ',\n",
              " ' extracting: img_align_celeba/000685.jpg  ',\n",
              " ' extracting: img_align_celeba/000686.jpg  ',\n",
              " ' extracting: img_align_celeba/000687.jpg  ',\n",
              " ' extracting: img_align_celeba/000688.jpg  ',\n",
              " ' extracting: img_align_celeba/000689.jpg  ',\n",
              " ' extracting: img_align_celeba/000690.jpg  ',\n",
              " ' extracting: img_align_celeba/000691.jpg  ',\n",
              " ' extracting: img_align_celeba/000692.jpg  ',\n",
              " ' extracting: img_align_celeba/000693.jpg  ',\n",
              " ' extracting: img_align_celeba/000694.jpg  ',\n",
              " ' extracting: img_align_celeba/000695.jpg  ',\n",
              " ' extracting: img_align_celeba/000696.jpg  ',\n",
              " ' extracting: img_align_celeba/000697.jpg  ',\n",
              " ' extracting: img_align_celeba/000698.jpg  ',\n",
              " ' extracting: img_align_celeba/000699.jpg  ',\n",
              " ' extracting: img_align_celeba/000700.jpg  ',\n",
              " ' extracting: img_align_celeba/000701.jpg  ',\n",
              " ' extracting: img_align_celeba/000702.jpg  ',\n",
              " ' extracting: img_align_celeba/000703.jpg  ',\n",
              " ' extracting: img_align_celeba/000704.jpg  ',\n",
              " ' extracting: img_align_celeba/000705.jpg  ',\n",
              " ' extracting: img_align_celeba/000706.jpg  ',\n",
              " ' extracting: img_align_celeba/000707.jpg  ',\n",
              " ' extracting: img_align_celeba/000708.jpg  ',\n",
              " ' extracting: img_align_celeba/000709.jpg  ',\n",
              " ' extracting: img_align_celeba/000710.jpg  ',\n",
              " ' extracting: img_align_celeba/000711.jpg  ',\n",
              " ' extracting: img_align_celeba/000712.jpg  ',\n",
              " ' extracting: img_align_celeba/000713.jpg  ',\n",
              " ' extracting: img_align_celeba/000714.jpg  ',\n",
              " ' extracting: img_align_celeba/000715.jpg  ',\n",
              " ' extracting: img_align_celeba/000716.jpg  ',\n",
              " ' extracting: img_align_celeba/000717.jpg  ',\n",
              " ' extracting: img_align_celeba/000718.jpg  ',\n",
              " ' extracting: img_align_celeba/000719.jpg  ',\n",
              " ' extracting: img_align_celeba/000720.jpg  ',\n",
              " ' extracting: img_align_celeba/000721.jpg  ',\n",
              " ' extracting: img_align_celeba/000722.jpg  ',\n",
              " ' extracting: img_align_celeba/000723.jpg  ',\n",
              " ' extracting: img_align_celeba/000724.jpg  ',\n",
              " ' extracting: img_align_celeba/000725.jpg  ',\n",
              " ' extracting: img_align_celeba/000726.jpg  ',\n",
              " ' extracting: img_align_celeba/000727.jpg  ',\n",
              " ' extracting: img_align_celeba/000728.jpg  ',\n",
              " ' extracting: img_align_celeba/000729.jpg  ',\n",
              " ' extracting: img_align_celeba/000730.jpg  ',\n",
              " ' extracting: img_align_celeba/000731.jpg  ',\n",
              " ' extracting: img_align_celeba/000732.jpg  ',\n",
              " ' extracting: img_align_celeba/000733.jpg  ',\n",
              " ' extracting: img_align_celeba/000734.jpg  ',\n",
              " ' extracting: img_align_celeba/000735.jpg  ',\n",
              " ' extracting: img_align_celeba/000736.jpg  ',\n",
              " ' extracting: img_align_celeba/000737.jpg  ',\n",
              " ' extracting: img_align_celeba/000738.jpg  ',\n",
              " ' extracting: img_align_celeba/000739.jpg  ',\n",
              " ' extracting: img_align_celeba/000740.jpg  ',\n",
              " ' extracting: img_align_celeba/000741.jpg  ',\n",
              " ' extracting: img_align_celeba/000742.jpg  ',\n",
              " ' extracting: img_align_celeba/000743.jpg  ',\n",
              " ' extracting: img_align_celeba/000744.jpg  ',\n",
              " ' extracting: img_align_celeba/000745.jpg  ',\n",
              " ' extracting: img_align_celeba/000746.jpg  ',\n",
              " ' extracting: img_align_celeba/000747.jpg  ',\n",
              " ' extracting: img_align_celeba/000748.jpg  ',\n",
              " ' extracting: img_align_celeba/000749.jpg  ',\n",
              " ' extracting: img_align_celeba/000750.jpg  ',\n",
              " ' extracting: img_align_celeba/000751.jpg  ',\n",
              " ' extracting: img_align_celeba/000752.jpg  ',\n",
              " ' extracting: img_align_celeba/000753.jpg  ',\n",
              " ' extracting: img_align_celeba/000754.jpg  ',\n",
              " ' extracting: img_align_celeba/000755.jpg  ',\n",
              " ' extracting: img_align_celeba/000756.jpg  ',\n",
              " ' extracting: img_align_celeba/000757.jpg  ',\n",
              " ' extracting: img_align_celeba/000758.jpg  ',\n",
              " ' extracting: img_align_celeba/000759.jpg  ',\n",
              " ' extracting: img_align_celeba/000760.jpg  ',\n",
              " ' extracting: img_align_celeba/000761.jpg  ',\n",
              " ' extracting: img_align_celeba/000762.jpg  ',\n",
              " ' extracting: img_align_celeba/000763.jpg  ',\n",
              " ' extracting: img_align_celeba/000764.jpg  ',\n",
              " ' extracting: img_align_celeba/000765.jpg  ',\n",
              " ' extracting: img_align_celeba/000766.jpg  ',\n",
              " ' extracting: img_align_celeba/000767.jpg  ',\n",
              " ' extracting: img_align_celeba/000768.jpg  ',\n",
              " ' extracting: img_align_celeba/000769.jpg  ',\n",
              " ' extracting: img_align_celeba/000770.jpg  ',\n",
              " ' extracting: img_align_celeba/000771.jpg  ',\n",
              " ' extracting: img_align_celeba/000772.jpg  ',\n",
              " ' extracting: img_align_celeba/000773.jpg  ',\n",
              " ' extracting: img_align_celeba/000774.jpg  ',\n",
              " ' extracting: img_align_celeba/000775.jpg  ',\n",
              " ' extracting: img_align_celeba/000776.jpg  ',\n",
              " ' extracting: img_align_celeba/000777.jpg  ',\n",
              " ' extracting: img_align_celeba/000778.jpg  ',\n",
              " ' extracting: img_align_celeba/000779.jpg  ',\n",
              " ' extracting: img_align_celeba/000780.jpg  ',\n",
              " ' extracting: img_align_celeba/000781.jpg  ',\n",
              " ' extracting: img_align_celeba/000782.jpg  ',\n",
              " ' extracting: img_align_celeba/000783.jpg  ',\n",
              " ' extracting: img_align_celeba/000784.jpg  ',\n",
              " ' extracting: img_align_celeba/000785.jpg  ',\n",
              " ' extracting: img_align_celeba/000786.jpg  ',\n",
              " ' extracting: img_align_celeba/000787.jpg  ',\n",
              " ' extracting: img_align_celeba/000788.jpg  ',\n",
              " ' extracting: img_align_celeba/000789.jpg  ',\n",
              " ' extracting: img_align_celeba/000790.jpg  ',\n",
              " ' extracting: img_align_celeba/000791.jpg  ',\n",
              " ' extracting: img_align_celeba/000792.jpg  ',\n",
              " ' extracting: img_align_celeba/000793.jpg  ',\n",
              " ' extracting: img_align_celeba/000794.jpg  ',\n",
              " ' extracting: img_align_celeba/000795.jpg  ',\n",
              " ' extracting: img_align_celeba/000796.jpg  ',\n",
              " ' extracting: img_align_celeba/000797.jpg  ',\n",
              " ' extracting: img_align_celeba/000798.jpg  ',\n",
              " ' extracting: img_align_celeba/000799.jpg  ',\n",
              " ' extracting: img_align_celeba/000800.jpg  ',\n",
              " ' extracting: img_align_celeba/000801.jpg  ',\n",
              " ' extracting: img_align_celeba/000802.jpg  ',\n",
              " ' extracting: img_align_celeba/000803.jpg  ',\n",
              " ' extracting: img_align_celeba/000804.jpg  ',\n",
              " ' extracting: img_align_celeba/000805.jpg  ',\n",
              " ' extracting: img_align_celeba/000806.jpg  ',\n",
              " ' extracting: img_align_celeba/000807.jpg  ',\n",
              " ' extracting: img_align_celeba/000808.jpg  ',\n",
              " ' extracting: img_align_celeba/000809.jpg  ',\n",
              " ' extracting: img_align_celeba/000810.jpg  ',\n",
              " ' extracting: img_align_celeba/000811.jpg  ',\n",
              " ' extracting: img_align_celeba/000812.jpg  ',\n",
              " ' extracting: img_align_celeba/000813.jpg  ',\n",
              " ' extracting: img_align_celeba/000814.jpg  ',\n",
              " ' extracting: img_align_celeba/000815.jpg  ',\n",
              " ' extracting: img_align_celeba/000816.jpg  ',\n",
              " ' extracting: img_align_celeba/000817.jpg  ',\n",
              " ' extracting: img_align_celeba/000818.jpg  ',\n",
              " ' extracting: img_align_celeba/000819.jpg  ',\n",
              " ' extracting: img_align_celeba/000820.jpg  ',\n",
              " ' extracting: img_align_celeba/000821.jpg  ',\n",
              " ' extracting: img_align_celeba/000822.jpg  ',\n",
              " ' extracting: img_align_celeba/000823.jpg  ',\n",
              " ' extracting: img_align_celeba/000824.jpg  ',\n",
              " ' extracting: img_align_celeba/000825.jpg  ',\n",
              " ' extracting: img_align_celeba/000826.jpg  ',\n",
              " ' extracting: img_align_celeba/000827.jpg  ',\n",
              " ' extracting: img_align_celeba/000828.jpg  ',\n",
              " ' extracting: img_align_celeba/000829.jpg  ',\n",
              " ' extracting: img_align_celeba/000830.jpg  ',\n",
              " ' extracting: img_align_celeba/000831.jpg  ',\n",
              " ' extracting: img_align_celeba/000832.jpg  ',\n",
              " ' extracting: img_align_celeba/000833.jpg  ',\n",
              " ' extracting: img_align_celeba/000834.jpg  ',\n",
              " ' extracting: img_align_celeba/000835.jpg  ',\n",
              " ' extracting: img_align_celeba/000836.jpg  ',\n",
              " ' extracting: img_align_celeba/000837.jpg  ',\n",
              " ' extracting: img_align_celeba/000838.jpg  ',\n",
              " ' extracting: img_align_celeba/000839.jpg  ',\n",
              " ' extracting: img_align_celeba/000840.jpg  ',\n",
              " ' extracting: img_align_celeba/000841.jpg  ',\n",
              " ' extracting: img_align_celeba/000842.jpg  ',\n",
              " ' extracting: img_align_celeba/000843.jpg  ',\n",
              " ' extracting: img_align_celeba/000844.jpg  ',\n",
              " ' extracting: img_align_celeba/000845.jpg  ',\n",
              " ' extracting: img_align_celeba/000846.jpg  ',\n",
              " ' extracting: img_align_celeba/000847.jpg  ',\n",
              " ' extracting: img_align_celeba/000848.jpg  ',\n",
              " ' extracting: img_align_celeba/000849.jpg  ',\n",
              " ' extracting: img_align_celeba/000850.jpg  ',\n",
              " ' extracting: img_align_celeba/000851.jpg  ',\n",
              " ' extracting: img_align_celeba/000852.jpg  ',\n",
              " ' extracting: img_align_celeba/000853.jpg  ',\n",
              " ' extracting: img_align_celeba/000854.jpg  ',\n",
              " ' extracting: img_align_celeba/000855.jpg  ',\n",
              " ' extracting: img_align_celeba/000856.jpg  ',\n",
              " ' extracting: img_align_celeba/000857.jpg  ',\n",
              " ' extracting: img_align_celeba/000858.jpg  ',\n",
              " ' extracting: img_align_celeba/000859.jpg  ',\n",
              " ' extracting: img_align_celeba/000860.jpg  ',\n",
              " ' extracting: img_align_celeba/000861.jpg  ',\n",
              " ' extracting: img_align_celeba/000862.jpg  ',\n",
              " ' extracting: img_align_celeba/000863.jpg  ',\n",
              " ' extracting: img_align_celeba/000864.jpg  ',\n",
              " ' extracting: img_align_celeba/000865.jpg  ',\n",
              " ' extracting: img_align_celeba/000866.jpg  ',\n",
              " ' extracting: img_align_celeba/000867.jpg  ',\n",
              " ' extracting: img_align_celeba/000868.jpg  ',\n",
              " ' extracting: img_align_celeba/000869.jpg  ',\n",
              " ' extracting: img_align_celeba/000870.jpg  ',\n",
              " ' extracting: img_align_celeba/000871.jpg  ',\n",
              " ' extracting: img_align_celeba/000872.jpg  ',\n",
              " ' extracting: img_align_celeba/000873.jpg  ',\n",
              " ' extracting: img_align_celeba/000874.jpg  ',\n",
              " ' extracting: img_align_celeba/000875.jpg  ',\n",
              " ' extracting: img_align_celeba/000876.jpg  ',\n",
              " ' extracting: img_align_celeba/000877.jpg  ',\n",
              " ' extracting: img_align_celeba/000878.jpg  ',\n",
              " ' extracting: img_align_celeba/000879.jpg  ',\n",
              " ' extracting: img_align_celeba/000880.jpg  ',\n",
              " ' extracting: img_align_celeba/000881.jpg  ',\n",
              " ' extracting: img_align_celeba/000882.jpg  ',\n",
              " ' extracting: img_align_celeba/000883.jpg  ',\n",
              " ' extracting: img_align_celeba/000884.jpg  ',\n",
              " ' extracting: img_align_celeba/000885.jpg  ',\n",
              " ' extracting: img_align_celeba/000886.jpg  ',\n",
              " ' extracting: img_align_celeba/000887.jpg  ',\n",
              " ' extracting: img_align_celeba/000888.jpg  ',\n",
              " ' extracting: img_align_celeba/000889.jpg  ',\n",
              " ' extracting: img_align_celeba/000890.jpg  ',\n",
              " ' extracting: img_align_celeba/000891.jpg  ',\n",
              " ' extracting: img_align_celeba/000892.jpg  ',\n",
              " ' extracting: img_align_celeba/000893.jpg  ',\n",
              " ' extracting: img_align_celeba/000894.jpg  ',\n",
              " ' extracting: img_align_celeba/000895.jpg  ',\n",
              " ' extracting: img_align_celeba/000896.jpg  ',\n",
              " ' extracting: img_align_celeba/000897.jpg  ',\n",
              " ' extracting: img_align_celeba/000898.jpg  ',\n",
              " ' extracting: img_align_celeba/000899.jpg  ',\n",
              " ' extracting: img_align_celeba/000900.jpg  ',\n",
              " ' extracting: img_align_celeba/000901.jpg  ',\n",
              " ' extracting: img_align_celeba/000902.jpg  ',\n",
              " ' extracting: img_align_celeba/000903.jpg  ',\n",
              " ' extracting: img_align_celeba/000904.jpg  ',\n",
              " ' extracting: img_align_celeba/000905.jpg  ',\n",
              " ' extracting: img_align_celeba/000906.jpg  ',\n",
              " ' extracting: img_align_celeba/000907.jpg  ',\n",
              " ' extracting: img_align_celeba/000908.jpg  ',\n",
              " ' extracting: img_align_celeba/000909.jpg  ',\n",
              " ' extracting: img_align_celeba/000910.jpg  ',\n",
              " ' extracting: img_align_celeba/000911.jpg  ',\n",
              " ' extracting: img_align_celeba/000912.jpg  ',\n",
              " ' extracting: img_align_celeba/000913.jpg  ',\n",
              " ' extracting: img_align_celeba/000914.jpg  ',\n",
              " ' extracting: img_align_celeba/000915.jpg  ',\n",
              " ' extracting: img_align_celeba/000916.jpg  ',\n",
              " ' extracting: img_align_celeba/000917.jpg  ',\n",
              " ' extracting: img_align_celeba/000918.jpg  ',\n",
              " ' extracting: img_align_celeba/000919.jpg  ',\n",
              " ' extracting: img_align_celeba/000920.jpg  ',\n",
              " ' extracting: img_align_celeba/000921.jpg  ',\n",
              " ' extracting: img_align_celeba/000922.jpg  ',\n",
              " ' extracting: img_align_celeba/000923.jpg  ',\n",
              " ' extracting: img_align_celeba/000924.jpg  ',\n",
              " ' extracting: img_align_celeba/000925.jpg  ',\n",
              " ' extracting: img_align_celeba/000926.jpg  ',\n",
              " ' extracting: img_align_celeba/000927.jpg  ',\n",
              " ' extracting: img_align_celeba/000928.jpg  ',\n",
              " ' extracting: img_align_celeba/000929.jpg  ',\n",
              " ' extracting: img_align_celeba/000930.jpg  ',\n",
              " ' extracting: img_align_celeba/000931.jpg  ',\n",
              " ' extracting: img_align_celeba/000932.jpg  ',\n",
              " ' extracting: img_align_celeba/000933.jpg  ',\n",
              " ' extracting: img_align_celeba/000934.jpg  ',\n",
              " ' extracting: img_align_celeba/000935.jpg  ',\n",
              " ' extracting: img_align_celeba/000936.jpg  ',\n",
              " ' extracting: img_align_celeba/000937.jpg  ',\n",
              " ' extracting: img_align_celeba/000938.jpg  ',\n",
              " ' extracting: img_align_celeba/000939.jpg  ',\n",
              " ' extracting: img_align_celeba/000940.jpg  ',\n",
              " ' extracting: img_align_celeba/000941.jpg  ',\n",
              " ' extracting: img_align_celeba/000942.jpg  ',\n",
              " ' extracting: img_align_celeba/000943.jpg  ',\n",
              " ' extracting: img_align_celeba/000944.jpg  ',\n",
              " ' extracting: img_align_celeba/000945.jpg  ',\n",
              " ' extracting: img_align_celeba/000946.jpg  ',\n",
              " ' extracting: img_align_celeba/000947.jpg  ',\n",
              " ' extracting: img_align_celeba/000948.jpg  ',\n",
              " ' extracting: img_align_celeba/000949.jpg  ',\n",
              " ' extracting: img_align_celeba/000950.jpg  ',\n",
              " ' extracting: img_align_celeba/000951.jpg  ',\n",
              " ' extracting: img_align_celeba/000952.jpg  ',\n",
              " ' extracting: img_align_celeba/000953.jpg  ',\n",
              " ' extracting: img_align_celeba/000954.jpg  ',\n",
              " ' extracting: img_align_celeba/000955.jpg  ',\n",
              " ' extracting: img_align_celeba/000956.jpg  ',\n",
              " ' extracting: img_align_celeba/000957.jpg  ',\n",
              " ' extracting: img_align_celeba/000958.jpg  ',\n",
              " ' extracting: img_align_celeba/000959.jpg  ',\n",
              " ' extracting: img_align_celeba/000960.jpg  ',\n",
              " ' extracting: img_align_celeba/000961.jpg  ',\n",
              " ' extracting: img_align_celeba/000962.jpg  ',\n",
              " ' extracting: img_align_celeba/000963.jpg  ',\n",
              " ' extracting: img_align_celeba/000964.jpg  ',\n",
              " ' extracting: img_align_celeba/000965.jpg  ',\n",
              " ' extracting: img_align_celeba/000966.jpg  ',\n",
              " ' extracting: img_align_celeba/000967.jpg  ',\n",
              " ' extracting: img_align_celeba/000968.jpg  ',\n",
              " ' extracting: img_align_celeba/000969.jpg  ',\n",
              " ' extracting: img_align_celeba/000970.jpg  ',\n",
              " ' extracting: img_align_celeba/000971.jpg  ',\n",
              " ' extracting: img_align_celeba/000972.jpg  ',\n",
              " ' extracting: img_align_celeba/000973.jpg  ',\n",
              " ' extracting: img_align_celeba/000974.jpg  ',\n",
              " ' extracting: img_align_celeba/000975.jpg  ',\n",
              " ' extracting: img_align_celeba/000976.jpg  ',\n",
              " ' extracting: img_align_celeba/000977.jpg  ',\n",
              " ' extracting: img_align_celeba/000978.jpg  ',\n",
              " ' extracting: img_align_celeba/000979.jpg  ',\n",
              " ' extracting: img_align_celeba/000980.jpg  ',\n",
              " ' extracting: img_align_celeba/000981.jpg  ',\n",
              " ' extracting: img_align_celeba/000982.jpg  ',\n",
              " ' extracting: img_align_celeba/000983.jpg  ',\n",
              " ' extracting: img_align_celeba/000984.jpg  ',\n",
              " ' extracting: img_align_celeba/000985.jpg  ',\n",
              " ' extracting: img_align_celeba/000986.jpg  ',\n",
              " ' extracting: img_align_celeba/000987.jpg  ',\n",
              " ' extracting: img_align_celeba/000988.jpg  ',\n",
              " ' extracting: img_align_celeba/000989.jpg  ',\n",
              " ' extracting: img_align_celeba/000990.jpg  ',\n",
              " ' extracting: img_align_celeba/000991.jpg  ',\n",
              " ' extracting: img_align_celeba/000992.jpg  ',\n",
              " ' extracting: img_align_celeba/000993.jpg  ',\n",
              " ' extracting: img_align_celeba/000994.jpg  ',\n",
              " ' extracting: img_align_celeba/000995.jpg  ',\n",
              " ' extracting: img_align_celeba/000996.jpg  ',\n",
              " ' extracting: img_align_celeba/000997.jpg  ',\n",
              " ' extracting: img_align_celeba/000998.jpg  ',\n",
              " ...]"
            ]
          },
          "metadata": {},
          "execution_count": 5
        }
      ]
    },
    {
      "cell_type": "code",
      "source": [
        "import os\n",
        "import zipfile \n",
        "import gdown\n",
        "import torch\n",
        "from natsort import natsorted\n",
        "from PIL import Image\n",
        "from torch.utils.data import Dataset\n",
        "from torchvision import transforms\n",
        "\n",
        "## Setup\n",
        "# Number of gpus available\n",
        "ngpu = 1\n",
        "device = torch.device('cuda:0' if (\n",
        "    torch.cuda.is_available() and ngpu > 0) else 'cpu')\n",
        "\n",
        "## Fetch data from Google Drive \n",
        "# Root directory for the dataset\n",
        "data_root = 'data/celeba'\n",
        "# Path to folder with the dataset\n",
        "dataset_folder = f'{data_root}/img_align_celeba'\n",
        "# URL for the CelebA dataset\n",
        "url = 'https://drive.google.com/uc?id=1cNIac61PSA_LqDFYFUeyaQYekYPc75NH'\n",
        "# Path to download the dataset to\n",
        "download_path = f'{data_root}/img_align_celeba.zip'\n",
        "\n",
        "# Create required directories \n",
        "if not os.path.exists(data_root):\n",
        "  os.makedirs(data_root)\n",
        "  os.makedirs(dataset_folder)\n",
        "\n",
        "# Download the dataset from google drive\n",
        "gdown.download(url, download_path, quiet=False)\n",
        "\n",
        "# Unzip the downloaded file \n",
        "with zipfile.ZipFile(download_path, 'r') as ziphandler:\n",
        "  ziphandler.extractall(dataset_folder)\n",
        "\n",
        "## Create a custom Dataset class\n",
        "class CelebADataset(Dataset):\n",
        "  def __init__(self, root_dir, transform=None):\n",
        "    \"\"\"\n",
        "    Args:\n",
        "      root_dir (string): Directory with all the images\n",
        "      transform (callable, optional): transform to be applied to each image sample\n",
        "    \"\"\"\n",
        "    # Read names of images in the root directory\n",
        "    image_names = os.listdir(root_dir)\n",
        "\n",
        "    self.root_dir = root_dir\n",
        "    self.transform = transform \n",
        "    self.image_names = natsorted(image_names)\n",
        "\n",
        "  def __len__(self): \n",
        "    return len(self.image_names)\n",
        "\n",
        "  def __getitem__(self, idx):\n",
        "    # Get the path to the image \n",
        "    img_path = os.path.join(self.root_dir, self.image_names[idx])\n",
        "    # Load image and convert it to RGB\n",
        "    img = Image.open(img_path).convert('RGB')\n",
        "    # Apply transformations to the image\n",
        "    if self.transform:\n",
        "      img = self.transform(img)\n",
        "\n",
        "    return img\n",
        "\n",
        "## Load the dataset \n",
        "# Path to directory with all the images\n",
        "img_folder = f'{dataset_folder}/img_align_celeba'\n",
        "# Spatial size of training images, images are resized to this size.\n",
        "image_size = 64\n",
        "# Transformations to be applied to each individual image sample\n",
        "transform=transforms.Compose([\n",
        "    transforms.Resize(image_size),\n",
        "    transforms.CenterCrop(image_size),\n",
        "    transforms.ToTensor(),\n",
        "    transforms.Normalize(mean=[0.5, 0.5, 0.5],\n",
        "                          std=[0.5, 0.5, 0.5])\n",
        "])\n",
        "# Load the dataset from file and apply transformations\n",
        "celeba_dataset = CelebADataset(img_folder, transform)\n",
        "\n",
        "## Create a dataloader \n",
        "# Batch size during training\n",
        "batch_size = 128\n",
        "# Number of workers for the dataloader\n",
        "num_workers = 0 if device.type == 'cuda' else 2\n",
        "# Whether to put fetched data tensors to pinned memory\n",
        "pin_memory = True if device.type == 'cuda' else False\n",
        "\n",
        "celeba_dataloader = torch.utils.data.DataLoader(celeba_dataset,\n",
        "                                                batch_size=batch_size,\n",
        "                                                num_workers=num_workers,\n",
        "                                                pin_memory=pin_memory,\n",
        "                                                shuffle=True)"
      ],
      "metadata": {
        "id": "xVHk4moLYtF2"
      },
      "execution_count": null,
      "outputs": []
    },
    {
      "cell_type": "code",
      "execution_count": null,
      "metadata": {
        "id": "8FMUyaT4n4cR"
      },
      "outputs": [],
      "source": [
        "import tensorflow as tf\n",
        "img = tf.keras.preprocessing.image.load_img('img_align_celeba/000944.jpg')\n",
        "img"
      ]
    },
    {
      "cell_type": "code",
      "source": [
        "img=img.convert('L')"
      ],
      "metadata": {
        "id": "98nYvpMtGLJH"
      },
      "execution_count": null,
      "outputs": []
    },
    {
      "cell_type": "code",
      "source": [
        "import cv2\n",
        "from numpy import asarray"
      ],
      "metadata": {
        "id": "B7iVJ705eqSw"
      },
      "execution_count": null,
      "outputs": []
    },
    {
      "cell_type": "code",
      "source": [
        "img=asarray(img)"
      ],
      "metadata": {
        "id": "G7Tk_OEUFtyk"
      },
      "execution_count": null,
      "outputs": []
    },
    {
      "cell_type": "code",
      "source": [
        "img= cv2.resize(img, dsize=(64, 64), interpolation=cv2.INTER_CUBIC)\n"
      ],
      "metadata": {
        "id": "6hXiwMMwFogZ"
      },
      "execution_count": null,
      "outputs": []
    },
    {
      "cell_type": "code",
      "source": [
        "plt.imshow(img)"
      ],
      "metadata": {
        "id": "LdFkgkj1Gycg"
      },
      "execution_count": null,
      "outputs": []
    },
    {
      "cell_type": "code",
      "source": [
        "len(image[6:-1])"
      ],
      "metadata": {
        "id": "mZqwienJ0use"
      },
      "execution_count": null,
      "outputs": []
    },
    {
      "cell_type": "code",
      "source": [
        "import tensorflow as tf\n",
        "tf.__version__\n",
        "import glob\n",
        "import imageio\n",
        "import matplotlib.pyplot as plt\n",
        "import numpy as np\n",
        "import os\n",
        "import PIL\n",
        "from tensorflow.keras import layers\n",
        "import time\n",
        "\n",
        "from IPython import display\n",
        "import cv2\n",
        "import pandas as pd\n",
        "import numpy as np\n",
        "import matplotlib.pyplot as plt\n",
        "from PIL import Image\n",
        "from PIL import Image\n",
        "from numpy import asarray"
      ],
      "metadata": {
        "id": "r4PMZhQziN8Q"
      },
      "execution_count": null,
      "outputs": []
    },
    {
      "cell_type": "code",
      "execution_count": null,
      "metadata": {
        "id": "zXvxo9cQLJUz"
      },
      "outputs": [],
      "source": [
        "danni=list()\n",
        "for i in image[10000:100000]:\n",
        "  i=i[13:-2]\n",
        "  img = tf.keras.preprocessing.image.load_img('{}'.format(i))\n",
        "  numpydata = asarray(img)\n",
        "  dis = cv2.resize(numpydata, dsize=(64, 64), interpolation=cv2.INTER_CUBIC)\n",
        "  danni.append(dis)"
      ]
    },
    {
      "cell_type": "code",
      "source": [
        "cat=np.array(danni)\n",
        "y_pred_standard= tf.round(tf.nn.sigmoid(standard_classifier.predict(cat)))"
      ],
      "metadata": {
        "id": "YU7giKUUA6Uu"
      },
      "execution_count": null,
      "outputs": []
    },
    {
      "cell_type": "code",
      "source": [
        "y_pred_standard\n",
        "dogs=list()\n",
        "for i in range(90000):\n",
        "  if y_pred_standard[i]==1:\n",
        "    dogs.append(cat[i])"
      ],
      "metadata": {
        "id": "QdK2Elemi9ri"
      },
      "execution_count": null,
      "outputs": []
    },
    {
      "cell_type": "code",
      "source": [
        "batch_y\n",
        "cup=list()\n",
        "for i in range(5000):\n",
        "  if batch_y[i]==1:\n",
        "    cup.append(batch_x[i])"
      ],
      "metadata": {
        "id": "f4bDA3ZjN6Kk"
      },
      "execution_count": null,
      "outputs": []
    },
    {
      "cell_type": "code",
      "source": [
        "cup=np.array(cup)"
      ],
      "metadata": {
        "id": "8wgv7BYTOlAG"
      },
      "execution_count": null,
      "outputs": []
    },
    {
      "cell_type": "code",
      "source": [
        "cup.shape"
      ],
      "metadata": {
        "id": "BXWi5tXvOrJA"
      },
      "execution_count": null,
      "outputs": []
    },
    {
      "cell_type": "code",
      "source": [
        "dogs=np.array(dogs)"
      ],
      "metadata": {
        "id": "FHCZSiWPi90G"
      },
      "execution_count": null,
      "outputs": []
    },
    {
      "cell_type": "code",
      "source": [
        "plt.imshow(cup[2000])"
      ],
      "metadata": {
        "id": "46lGDC2-E-iS"
      },
      "execution_count": null,
      "outputs": []
    },
    {
      "cell_type": "code",
      "source": [
        "len(dogs)"
      ],
      "metadata": {
        "id": "kClE8NOiftZO"
      },
      "execution_count": null,
      "outputs": []
    },
    {
      "cell_type": "code",
      "source": [
        "# To generate GIFs\n",
        "!pip install imageio\n",
        "!pip install git+https://github.com/tensorflow/docs"
      ],
      "metadata": {
        "id": "A9mfSDQFA6dF"
      },
      "execution_count": null,
      "outputs": []
    },
    {
      "cell_type": "code",
      "source": [
        "import glob\n",
        "import imageio\n",
        "import matplotlib.pyplot as plt\n",
        "import numpy as np\n",
        "import os\n",
        "import PIL\n",
        "from tensorflow.keras import layers\n",
        "from tensorflow import keras\n",
        "import time\n",
        "\n",
        "from IPython import display"
      ],
      "metadata": {
        "id": "jj4_fHoBA6fu"
      },
      "execution_count": null,
      "outputs": []
    },
    {
      "cell_type": "code",
      "source": [
        "(train_images, train_labels), (_, _) = tf.keras.datasets.mnist.load_data()"
      ],
      "metadata": {
        "id": "MKPpja6nA6iJ"
      },
      "execution_count": null,
      "outputs": []
    },
    {
      "cell_type": "code",
      "source": [
        "train_images = train_images.reshape(train_images.shape[0], 28, 28, 1).astype('float32')\n",
        "train_images = (train_images - 127.5) / 127.5  # Normalize the images to [-1, 1]"
      ],
      "metadata": {
        "id": "RW8c9RktA6lG"
      },
      "execution_count": null,
      "outputs": []
    },
    {
      "cell_type": "code",
      "source": [
        "train_images"
      ],
      "metadata": {
        "id": "5t1YnIX7A6ou"
      },
      "execution_count": null,
      "outputs": []
    },
    {
      "cell_type": "code",
      "source": [
        "# This method returns a helper function to compute cross entropy loss\n",
        "cross_entropy = tf.keras.losses.BinaryCrossentropy(from_logits=True)\n"
      ],
      "metadata": {
        "id": "geO3R-isHR7A"
      },
      "execution_count": null,
      "outputs": []
    },
    {
      "cell_type": "code",
      "source": [
        "def discriminator_loss(real_output, fake_output):\n",
        "    real_loss = cross_entropy(tf.ones_like(real_output), real_output)\n",
        "    fake_loss = cross_entropy(tf.zeros_like(fake_output), fake_output)\n",
        "    total_loss = real_loss + fake_loss\n",
        "    return total_loss"
      ],
      "metadata": {
        "id": "boab-k1bHR9n"
      },
      "execution_count": null,
      "outputs": []
    },
    {
      "cell_type": "code",
      "source": [
        "def generator_loss(fake_output):\n",
        "    return cross_entropy(tf.ones_like(fake_output), fake_output)"
      ],
      "metadata": {
        "id": "VJZhu8ePHXo0"
      },
      "execution_count": null,
      "outputs": []
    },
    {
      "cell_type": "code",
      "source": [
        "generator_optimizer = tf.keras.optimizers.Adam(0.002) # 1e-4\n",
        "discriminator_optimizer = tf.keras.optimizers.Adam(0.002) # 1e-4"
      ],
      "metadata": {
        "id": "3NKZ-bhIHSDP"
      },
      "execution_count": null,
      "outputs": []
    },
    {
      "cell_type": "code",
      "source": [
        "checkpoint_dir = './training_checkpoints'\n",
        "checkpoint_prefix = os.path.join(checkpoint_dir, \"ckpt\")\n",
        "checkpoint = tf.train.Checkpoint(generator_optimizer=generator_optimizer,\n",
        "                                 discriminator_optimizer=discriminator_optimizer,\n",
        "                                 generator=generator,\n",
        "                                 discriminator=discriminator)"
      ],
      "metadata": {
        "id": "YSz_QyA8HSF5"
      },
      "execution_count": null,
      "outputs": []
    },
    {
      "cell_type": "code",
      "source": [
        "BATCH_SIZE=128\n",
        "EPOCHS = 500\n",
        "noise_dim = 100\n",
        "num_examples_to_generate = 16\n",
        "\n",
        "# You will reuse this seed overtime (so it's easier)\n",
        "# to visualize progress in the animated GIF)\n",
        "seed = tf.random.normal([num_examples_to_generate, noise_dim])"
      ],
      "metadata": {
        "id": "jgHF6VhTHSIn"
      },
      "execution_count": null,
      "outputs": []
    },
    {
      "cell_type": "code",
      "source": [
        "\n",
        "tf.compat.v1.enable_eager_execution()"
      ],
      "metadata": {
        "id": "FUKlIz4wRwTu"
      },
      "execution_count": null,
      "outputs": []
    },
    {
      "cell_type": "code",
      "source": [
        "# Notice the use of `tf.function`\n",
        "# This annotation causes the function to be \"compiled\".\n",
        "# loss_history = mdl.util.LossHistory(smoothing_factor=0.99) # to record loss evolution\n",
        "# loss_dis = mdl.util.LossHistory(smoothing_factor=0.99) # to record loss evolution\n",
        "# plotter = mdl.util.PeriodicPlotter(sec=2, scale='semilogy')\n",
        "tf.compat.v1.enable_eager_execution()\n",
        "@tf.function\n",
        "def train_step(images):\n",
        "    noise = tf.random.normal([BATCH_SIZE, noise_dim])\n",
        "    \n",
        "\n",
        "    with tf.GradientTape() as gen_tape, tf.GradientTape() as disc_tape:\n",
        "      generated_images = generator(noise, training=True)\n",
        "    \n",
        "      images=tf.expand_dims(images,0,name=None)\n",
        "      real_output = discriminator(images, training=True)\n",
        "      \n",
        "      fake_output = discriminator(generated_images, training=True)\n",
        "    \n",
        "\n",
        "      gen_loss = generator_loss(fake_output)\n",
        "      # loss_gen = np.array(gen_loss)\n",
        "      \n",
        " \n",
        "      disc_loss = discriminator_loss(real_output, fake_output)\n",
        "\n",
        "    # \n",
        "      \n",
        "      \n",
        "    # # # Record the loss and plot the evolution of the loss as a function of training\n",
        "    #   loss_history.append(loss_gen.mean())\n",
        "    #   plotter.plot(loss_history.get())\n",
        "    # # Record the loss and plot the evolution of the loss as a function of training\n",
        "    #   loss_dis.append(loss_dics.numpy().mean())\n",
        "    #   plotter.plot(loss_dis.get())\n",
        "      \n",
        "      \n",
        "      \n",
        "\n",
        "\n",
        "      #loss_gen_loss = mdl.util.LossHistory(smoothing_factor=0.99) # to record loss evolution\n",
        "      #loss_disc_loss = mdl.util.LossHistory(smoothing_factor=0.99) # to record loss evolution\n",
        "      #plotter = mdl.util.PeriodicPlotter(sec=2, scale='semilogy')\n",
        "      #loss_gen_loss.append(gen_loss.numpy().mean())\n",
        "      #plotter.plot(loss_gen_loss.get())\n",
        "\n",
        "      #loss_disc_loss.append(disc_loss.numpy().mean())\n",
        "      #plotter.plot(loss_disc_loss.get())\n",
        "    gradients_of_generator = gen_tape.gradient(gen_loss, generator.trainable_variables)\n",
        "    gradients_of_discriminator = disc_tape.gradient(disc_loss, discriminator.trainable_variables)\n",
        "\n",
        "    generator_optimizer.apply_gradients(zip(gradients_of_generator, generator.trainable_variables))\n",
        "    discriminator_optimizer.apply_gradients(zip(gradients_of_discriminator, discriminator.trainable_variables))\n",
        "    return gen_loss, disc_loss"
      ],
      "metadata": {
        "id": "6uYeHFHQHSLK"
      },
      "execution_count": null,
      "outputs": []
    },
    {
      "cell_type": "code",
      "source": [
        "pip install livelossplot"
      ],
      "metadata": {
        "colab": {
          "base_uri": "https://localhost:8080/"
        },
        "id": "IuaX1kznUudI",
        "outputId": "3fe440c1-9044-4f7f-99f1-f017618b2fba"
      },
      "execution_count": null,
      "outputs": [
        {
          "output_type": "stream",
          "name": "stdout",
          "text": [
            "Looking in indexes: https://pypi.org/simple, https://us-python.pkg.dev/colab-wheels/public/simple/\n",
            "Requirement already satisfied: livelossplot in /usr/local/lib/python3.7/dist-packages (0.5.5)\n",
            "Requirement already satisfied: matplotlib in /usr/local/lib/python3.7/dist-packages (from livelossplot) (3.2.2)\n",
            "Requirement already satisfied: bokeh in /usr/local/lib/python3.7/dist-packages (from livelossplot) (2.3.3)\n",
            "Requirement already satisfied: ipython==7.* in /usr/local/lib/python3.7/dist-packages (from livelossplot) (7.9.0)\n",
            "Requirement already satisfied: numpy<1.22 in /usr/local/lib/python3.7/dist-packages (from livelossplot) (1.21.6)\n",
            "Requirement already satisfied: backcall in /usr/local/lib/python3.7/dist-packages (from ipython==7.*->livelossplot) (0.2.0)\n",
            "Requirement already satisfied: setuptools>=18.5 in /usr/local/lib/python3.7/dist-packages (from ipython==7.*->livelossplot) (57.4.0)\n",
            "Requirement already satisfied: decorator in /usr/local/lib/python3.7/dist-packages (from ipython==7.*->livelossplot) (4.4.2)\n",
            "Requirement already satisfied: pygments in /usr/local/lib/python3.7/dist-packages (from ipython==7.*->livelossplot) (2.6.1)\n",
            "Requirement already satisfied: pexpect in /usr/local/lib/python3.7/dist-packages (from ipython==7.*->livelossplot) (4.8.0)\n",
            "Requirement already satisfied: pickleshare in /usr/local/lib/python3.7/dist-packages (from ipython==7.*->livelossplot) (0.7.5)\n",
            "Requirement already satisfied: traitlets>=4.2 in /usr/local/lib/python3.7/dist-packages (from ipython==7.*->livelossplot) (5.1.1)\n",
            "Requirement already satisfied: prompt-toolkit<2.1.0,>=2.0.0 in /usr/local/lib/python3.7/dist-packages (from ipython==7.*->livelossplot) (2.0.10)\n",
            "Requirement already satisfied: jedi>=0.10 in /usr/local/lib/python3.7/dist-packages (from ipython==7.*->livelossplot) (0.18.2)\n",
            "Requirement already satisfied: parso<0.9.0,>=0.8.0 in /usr/local/lib/python3.7/dist-packages (from jedi>=0.10->ipython==7.*->livelossplot) (0.8.3)\n",
            "Requirement already satisfied: wcwidth in /usr/local/lib/python3.7/dist-packages (from prompt-toolkit<2.1.0,>=2.0.0->ipython==7.*->livelossplot) (0.2.5)\n",
            "Requirement already satisfied: six>=1.9.0 in /usr/local/lib/python3.7/dist-packages (from prompt-toolkit<2.1.0,>=2.0.0->ipython==7.*->livelossplot) (1.15.0)\n",
            "Requirement already satisfied: tornado>=5.1 in /usr/local/lib/python3.7/dist-packages (from bokeh->livelossplot) (6.0.4)\n",
            "Requirement already satisfied: typing-extensions>=3.7.4 in /usr/local/lib/python3.7/dist-packages (from bokeh->livelossplot) (4.1.1)\n",
            "Requirement already satisfied: PyYAML>=3.10 in /usr/local/lib/python3.7/dist-packages (from bokeh->livelossplot) (6.0)\n",
            "Requirement already satisfied: python-dateutil>=2.1 in /usr/local/lib/python3.7/dist-packages (from bokeh->livelossplot) (2.8.2)\n",
            "Requirement already satisfied: Jinja2>=2.9 in /usr/local/lib/python3.7/dist-packages (from bokeh->livelossplot) (2.11.3)\n",
            "Requirement already satisfied: pillow>=7.1.0 in /usr/local/lib/python3.7/dist-packages (from bokeh->livelossplot) (7.1.2)\n",
            "Requirement already satisfied: packaging>=16.8 in /usr/local/lib/python3.7/dist-packages (from bokeh->livelossplot) (21.3)\n",
            "Requirement already satisfied: MarkupSafe>=0.23 in /usr/local/lib/python3.7/dist-packages (from Jinja2>=2.9->bokeh->livelossplot) (2.0.1)\n",
            "Requirement already satisfied: pyparsing!=3.0.5,>=2.0.2 in /usr/local/lib/python3.7/dist-packages (from packaging>=16.8->bokeh->livelossplot) (3.0.9)\n",
            "Requirement already satisfied: cycler>=0.10 in /usr/local/lib/python3.7/dist-packages (from matplotlib->livelossplot) (0.11.0)\n",
            "Requirement already satisfied: kiwisolver>=1.0.1 in /usr/local/lib/python3.7/dist-packages (from matplotlib->livelossplot) (1.4.4)\n",
            "Requirement already satisfied: ptyprocess>=0.5 in /usr/local/lib/python3.7/dist-packages (from pexpect->ipython==7.*->livelossplot) (0.7.0)\n"
          ]
        }
      ]
    },
    {
      "cell_type": "code",
      "source": [
        "from livelossplot import PlotLosses\n",
        "loss =PlotLosses()"
      ],
      "metadata": {
        "id": "kLsmQmc3Vboh"
      },
      "execution_count": null,
      "outputs": []
    },
    {
      "cell_type": "code",
      "source": [
        "\n",
        "def draw_loss(loss_1,loss_2):\n",
        "  logs ={}\n",
        "  logs['gen_loss'] = loss_1\n",
        "  logs['dis_loss'] = loss_2\n",
        "  loss.update(logs)\n",
        "  loss.send()\n",
        " \n",
        " \n",
        "\n"
      ],
      "metadata": {
        "id": "zMIUzMssHUuB"
      },
      "execution_count": null,
      "outputs": []
    },
    {
      "cell_type": "code",
      "source": [],
      "metadata": {
        "id": "FaL3_e5iYGDp"
      },
      "execution_count": null,
      "outputs": []
    },
    {
      "cell_type": "code",
      "source": [
        "def train(dataset, epochs):\n",
        "  for epoch in range(epochs):\n",
        "    start = time.time()\n",
        "    loss_g=0.0\n",
        "    loss_d=0.0\n",
        "    cnt=0\n",
        "    for image_batch in dataset:\n",
        "      cnt+=1\n",
        "      gen_loss, disc_loss=train_step(image_batch)\n",
        "      loss_g += np.array(gen_loss)\n",
        "     \n",
        "      loss_d += np.array(disc_loss)\n",
        "      \n",
        "      # draw_loss(loss_g,loss_d)\n",
        "\n",
        "    # print(cnt)\n",
        "\n",
        "    # Produce images for the GIF as you go\n",
        "    # display.clear_output(wait=True)\n",
        "    \n",
        "    loss_g_mean = loss_g/cnt\n",
        "    loss_d_mean = loss_d/cnt\n",
        "    # print(loss_g,loss_d)\n",
        "    draw_loss(loss_g_mean,loss_d_mean)\n",
        "    generate_and_save_images(generator,\n",
        "                             epoch + 1,\n",
        "                             seed)\n",
        "\n",
        "    # Save the model every 15 epochs\n",
        "    if (epoch + 1) % 15 == 0:\n",
        "      checkpoint.save(file_prefix = checkpoint_prefix)\n",
        "\n",
        "    print ('Time for epoch {} is {} sec'.format(epoch + 1, time.time()-start))\n",
        "\n",
        "  # # Generate after the final epoch\n",
        "  # display.clear_output(wait=True)\n",
        "  # generate_and_save_images(generator,\n",
        "  #                          epochs,\n",
        "  #                          seed)"
      ],
      "metadata": {
        "id": "5Pe5N16nHSNw"
      },
      "execution_count": null,
      "outputs": []
    },
    {
      "cell_type": "code",
      "source": [
        "\n",
        "\n",
        "def generate_and_save_images(model, epoch, test_input):\n",
        "  # Notice `training` is set to False.\n",
        "  # This is so all layers run in inference mode (batchnorm).\n",
        "  predictions = model(test_input, training=False)\n",
        "\n",
        "  fig = plt.figure(figsize=(4, 4))\n",
        "\n",
        "  for i in range(predictions.shape[0]):\n",
        "      plt.subplot(4, 4, i+1)\n",
        "      # plt.imshow(predictions[i, :, :, :] * 127.5 + 127.5 )\n",
        "      # print(predictions[i,:,:,:])\n",
        "      plt.imshow(np.array(predictions[i,:,:,:]))\n",
        "      plt.axis('off')\n",
        "\n",
        "  plt.savefig('image_at_epoch_{:04d}.png'.format(epoch))\n",
        "  plt.show()"
      ],
      "metadata": {
        "id": "N_WnYsroHSQa"
      },
      "execution_count": null,
      "outputs": []
    },
    {
      "cell_type": "code",
      "source": [
        "pip install tensorlayer"
      ],
      "metadata": {
        "colab": {
          "base_uri": "https://localhost:8080/"
        },
        "id": "5RqdFXNlnIg0",
        "outputId": "87cc7367-3d7c-42a1-9883-2da84327bb8a"
      },
      "execution_count": null,
      "outputs": [
        {
          "output_type": "stream",
          "name": "stdout",
          "text": [
            "Looking in indexes: https://pypi.org/simple, https://us-python.pkg.dev/colab-wheels/public/simple/\n",
            "Requirement already satisfied: tensorlayer in /usr/local/lib/python3.7/dist-packages (2.2.5)\n",
            "Requirement already satisfied: progressbar2>=3.39.3 in /usr/local/lib/python3.7/dist-packages (from tensorlayer) (4.2.0)\n",
            "Requirement already satisfied: requests>=2.21.0 in /usr/local/lib/python3.7/dist-packages (from tensorlayer) (2.23.0)\n",
            "Requirement already satisfied: scipy>=1.2.1 in /usr/local/lib/python3.7/dist-packages (from tensorlayer) (1.7.3)\n",
            "Requirement already satisfied: numpy>=1.16 in /usr/local/lib/python3.7/dist-packages (from tensorlayer) (1.21.6)\n",
            "Requirement already satisfied: wrapt>=1.11.1 in /usr/local/lib/python3.7/dist-packages (from tensorlayer) (1.14.1)\n",
            "Requirement already satisfied: scikit-image>=0.15.0 in /usr/local/lib/python3.7/dist-packages (from tensorlayer) (0.18.3)\n",
            "Requirement already satisfied: h5py>=2.9 in /usr/local/lib/python3.7/dist-packages (from tensorlayer) (3.1.0)\n",
            "Requirement already satisfied: cloudpickle>=0.8.1 in /usr/local/lib/python3.7/dist-packages (from tensorlayer) (1.5.0)\n",
            "Requirement already satisfied: imageio>=2.5.0 in /usr/local/lib/python3.7/dist-packages (from tensorlayer) (2.9.0)\n",
            "Requirement already satisfied: scikit-learn>=0.21.0 in /usr/local/lib/python3.7/dist-packages (from tensorlayer) (1.0.2)\n",
            "Requirement already satisfied: cached-property in /usr/local/lib/python3.7/dist-packages (from h5py>=2.9->tensorlayer) (1.5.2)\n",
            "Requirement already satisfied: pillow in /usr/local/lib/python3.7/dist-packages (from imageio>=2.5.0->tensorlayer) (7.1.2)\n",
            "Requirement already satisfied: python-utils>=3.0.0 in /usr/local/lib/python3.7/dist-packages (from progressbar2>=3.39.3->tensorlayer) (3.4.5)\n",
            "Requirement already satisfied: chardet<4,>=3.0.2 in /usr/local/lib/python3.7/dist-packages (from requests>=2.21.0->tensorlayer) (3.0.4)\n",
            "Requirement already satisfied: urllib3!=1.25.0,!=1.25.1,<1.26,>=1.21.1 in /usr/local/lib/python3.7/dist-packages (from requests>=2.21.0->tensorlayer) (1.24.3)\n",
            "Requirement already satisfied: certifi>=2017.4.17 in /usr/local/lib/python3.7/dist-packages (from requests>=2.21.0->tensorlayer) (2022.9.24)\n",
            "Requirement already satisfied: idna<3,>=2.5 in /usr/local/lib/python3.7/dist-packages (from requests>=2.21.0->tensorlayer) (2.10)\n",
            "Requirement already satisfied: tifffile>=2019.7.26 in /usr/local/lib/python3.7/dist-packages (from scikit-image>=0.15.0->tensorlayer) (2021.11.2)\n",
            "Requirement already satisfied: networkx>=2.0 in /usr/local/lib/python3.7/dist-packages (from scikit-image>=0.15.0->tensorlayer) (2.6.3)\n",
            "Requirement already satisfied: PyWavelets>=1.1.1 in /usr/local/lib/python3.7/dist-packages (from scikit-image>=0.15.0->tensorlayer) (1.3.0)\n",
            "Requirement already satisfied: matplotlib!=3.0.0,>=2.0.0 in /usr/local/lib/python3.7/dist-packages (from scikit-image>=0.15.0->tensorlayer) (3.2.2)\n",
            "Requirement already satisfied: python-dateutil>=2.1 in /usr/local/lib/python3.7/dist-packages (from matplotlib!=3.0.0,>=2.0.0->scikit-image>=0.15.0->tensorlayer) (2.8.2)\n",
            "Requirement already satisfied: kiwisolver>=1.0.1 in /usr/local/lib/python3.7/dist-packages (from matplotlib!=3.0.0,>=2.0.0->scikit-image>=0.15.0->tensorlayer) (1.4.4)\n",
            "Requirement already satisfied: cycler>=0.10 in /usr/local/lib/python3.7/dist-packages (from matplotlib!=3.0.0,>=2.0.0->scikit-image>=0.15.0->tensorlayer) (0.11.0)\n",
            "Requirement already satisfied: pyparsing!=2.0.4,!=2.1.2,!=2.1.6,>=2.0.1 in /usr/local/lib/python3.7/dist-packages (from matplotlib!=3.0.0,>=2.0.0->scikit-image>=0.15.0->tensorlayer) (3.0.9)\n",
            "Requirement already satisfied: typing-extensions in /usr/local/lib/python3.7/dist-packages (from kiwisolver>=1.0.1->matplotlib!=3.0.0,>=2.0.0->scikit-image>=0.15.0->tensorlayer) (4.1.1)\n",
            "Requirement already satisfied: six>=1.5 in /usr/local/lib/python3.7/dist-packages (from python-dateutil>=2.1->matplotlib!=3.0.0,>=2.0.0->scikit-image>=0.15.0->tensorlayer) (1.15.0)\n",
            "Requirement already satisfied: threadpoolctl>=2.0.0 in /usr/local/lib/python3.7/dist-packages (from scikit-learn>=0.21.0->tensorlayer) (3.1.0)\n",
            "Requirement already satisfied: joblib>=0.11 in /usr/local/lib/python3.7/dist-packages (from scikit-learn>=0.21.0->tensorlayer) (1.2.0)\n"
          ]
        }
      ]
    },
    {
      "cell_type": "code",
      "source": [
        "import tensorflow as tf\n",
        "import tensorlayer as tl\n",
        "from tensorlayer.layers import Input, Dense, DeConv2d, Reshape, BatchNorm2d, Conv2d, Flatten"
      ],
      "metadata": {
        "id": "cIdxoVaHmRSq"
      },
      "execution_count": null,
      "outputs": []
    },
    {
      "cell_type": "code",
      "source": [
        "\n",
        "def get_generator(shape, gf_dim=64): # Dimension of gen filters in first conv layer. [64]\n",
        "    image_size = 64\n",
        "    s16 = image_size // 16\n",
        "    # w_init = tf.glorot_normal_initializer()\n",
        "    w_init = tf.random_normal_initializer(stddev=0.02)\n",
        "    gamma_init = tf.random_normal_initializer(1., 0.02)\n",
        "\n",
        "    ni = Input(shape)\n",
        "    nn = Dense(n_units=(gf_dim * 8 * s16 * s16), W_init=w_init, b_init=None)(ni)\n",
        "    nn = Reshape(shape=[-1, s16, s16, gf_dim*8])(nn)\n",
        "    nn = BatchNorm2d(decay=0.9, act=tf.nn.relu, gamma_init=gamma_init, name=None)(nn)\n",
        "    nn = DeConv2d(gf_dim * 4, (5, 5), (2, 2), W_init=w_init, b_init=None)(nn)\n",
        "    nn = BatchNorm2d( decay=0.9, act=tf.nn.relu, gamma_init=gamma_init)(nn)\n",
        "    nn = DeConv2d(gf_dim * 2, (5, 5), (2, 2), W_init=w_init, b_init=None)(nn)\n",
        "    nn = BatchNorm2d(decay=0.9, act=tf.nn.relu, gamma_init=gamma_init)(nn)\n",
        "    nn = DeConv2d(gf_dim, (5, 5), (2, 2), W_init=w_init, b_init=None)(nn)\n",
        "    nn = BatchNorm2d(decay=0.9, act=tf.nn.relu, gamma_init=gamma_init)(nn)\n",
        "    nn = DeConv2d(3, (5, 5), (2, 2), act=tf.nn.tanh, W_init=w_init)(nn)\n",
        "\n",
        "    return tl.models.Model(inputs=ni, outputs=nn)"
      ],
      "metadata": {
        "id": "KE9E8kytj71e"
      },
      "execution_count": null,
      "outputs": []
    },
    {
      "cell_type": "code",
      "source": [],
      "metadata": {
        "id": "0oR-AYSo23DE"
      },
      "execution_count": null,
      "outputs": []
    },
    {
      "cell_type": "code",
      "source": [
        "def get_discriminator(shape, df_dim=64): # Dimension of discrim filters in first conv layer. [64]\n",
        "    # w_init = tf.glorot_normal_initializer()\n",
        "    w_init = tf.random_normal_initializer(stddev=0.02)\n",
        "    gamma_init = tf.random_normal_initializer(1., 0.02)\n",
        "    lrelu = lambda x : tf.nn.leaky_relu(x, 0.2)\n",
        "\n",
        "    ni = Input(shape)\n",
        "    nn = Conv2d(df_dim, (5, 5), (2, 2), act=lrelu, W_init=w_init)(ni)\n",
        "    nn = Conv2d(df_dim*2, (5, 5), (2, 2), W_init=w_init, b_init=None)(nn)\n",
        "    nn = BatchNorm2d(decay=0.9, act=lrelu, gamma_init=gamma_init)(nn)\n",
        "    nn = Conv2d(df_dim*4, (5, 5), (2, 2), W_init=w_init, b_init=None)(nn)\n",
        "    nn = BatchNorm2d(decay=0.9, act=lrelu, gamma_init=gamma_init)(nn)\n",
        "    nn = Conv2d(df_dim*8, (5, 5), (2, 2), W_init=w_init, b_init=None)(nn)\n",
        "    nn = BatchNorm2d(decay=0.9, act=lrelu, gamma_init=gamma_init)(nn)\n",
        "    nn = Flatten()(nn)\n",
        "    nn = Dense(n_units=1, act=tf.identity, W_init=w_init)(nn)\n",
        "\n",
        "    return tl.models.Model(inputs=ni, outputs=nn)\n"
      ],
      "metadata": {
        "id": "xPx9aFS_kzLF"
      },
      "execution_count": null,
      "outputs": []
    },
    {
      "cell_type": "code",
      "source": [
        "import os\n",
        "import numpy as np\n",
        "import tensorflow as tf\n",
        "import tensorlayer as tl\n",
        "## enable debug logging\n",
        "tl.logging.set_verbosity(tl.logging.DEBUG)\n",
        "\n",
        "\n",
        "class FLAGS(object):\n",
        "    def __init__(self):\n",
        "        self.n_epoch = 100 # \"Epoch to train [25]\"\n",
        "        self.z_dim = 100 # \"Num of noise value]\"\n",
        "        self.lr = 0.0002 # \"Learning rate of for adam [0.0002]\")\n",
        "        self.beta1 = 0.5 # \"Momentum term of adam [0.5]\")\n",
        "        self.batch_size = 64 #64 # \"The number of batch images [64]\")\n",
        "        self.output_size = 64 # \"The size of the output images to produce [64]\")\n",
        "        self.sample_size = 64 # \"The number of sample images [64]\")\n",
        "        self.c_dim = 3 # \"Number of image channels. [3]\")\n",
        "        self.save_every_epoch = 1 # \"The interval of saveing checkpoints.\")\n",
        "        # self.dataset = \"celebA\" # \"The name of dataset [celebA, mnist, lsun]\")\n",
        "        self.checkpoint_dir = \"checkpoint\" # \"Directory name to save the checkpoints [checkpoint]\")\n",
        "        self.sample_dir = \"samples\" # \"Directory name to save the image samples [samples]\")\n",
        "        assert np.sqrt(self.sample_size) % 1 == 0., 'Flag `sample_size` needs to be a perfect square'\n",
        "flags = FLAGS()\n",
        "\n",
        "tl.files.exists_or_mkdir(flags.checkpoint_dir) # save model\n",
        "tl.files.exists_or_mkdir(flags.sample_dir) # save generated image\n",
        "\n",
        "def get_celebA(output_size, n_epoch, batch_size):\n",
        "    # dataset API and augmentation\n",
        "    images_path = tl.files.load_file_list(path = \"drive/MyDrive/data/img_align_celeba\", regx='.*.jpg', keep_prefix=True, printable=False)\n",
        "    # image_path = \n",
        "    def generator_train():\n",
        "        for image_path in images_path:\n",
        "            yield image_path.encode('utf-8')\n",
        "    def _map_fn(image_path):\n",
        "        image = tf.io.read_file(image_path)\n",
        "        image = tf.image.decode_jpeg(image, channels=3)  # get RGB with 0~1\n",
        "        image = tf.image.convert_image_dtype(image, dtype=tf.float32)\n",
        "        # image = tf.image.crop_central(image, [FLAGS.output_size, FLAGS.output_size, FLAGS.c_dim])\n",
        "        # image = tf.image.resize_images(image, FLAGS.output_size])\n",
        "        image = image[45:173, 25:153, :]\n",
        "        image = tf.image.resize([image], (output_size, output_size))[0]\n",
        "        # image = tf.image.crop_and_resize(image, boxes=[[]], crop_size=[64, 64])\n",
        "        # image = tf.image.resize_image_with_crop_or_pad(image, FLAGS.output_size, FLAGS.output_size) # central crop\n",
        "        image = tf.image.random_flip_left_right(image)\n",
        "        image = image * 2 - 1\n",
        "        return image\n",
        "    train_ds = tf.data.Dataset.from_generator(generator_train, output_types=tf.string)\n",
        "    ds = train_ds.shuffle(buffer_size=4096)\n",
        "    # ds = ds.shard(num_shards=hvd.size(), index=hvd.rank())\n",
        "    # ds = ds.repeat(n_epoch)\n",
        "    ds = ds.map(_map_fn, num_parallel_calls=4)\n",
        "    ds = ds.batch(batch_size)\n",
        "    ds = ds.prefetch(buffer_size=2)\n",
        "    return ds, images_path\n",
        "    # for batch_images in train_ds:\n",
        "    #     print(batch_images.shape)\n",
        "    # value = ds.make_one_shot_iterator().get_next()"
      ],
      "metadata": {
        "id": "fcAwLv24oTKr",
        "colab": {
          "base_uri": "https://localhost:8080/"
        },
        "outputId": "d6c11ec1-5f7a-4157-d26c-5e96926451e6"
      },
      "execution_count": null,
      "outputs": [
        {
          "output_type": "stream",
          "name": "stderr",
          "text": [
            "INFO:tensorlayer:[!] checkpoint exists ...\n",
            "INFO:tensorlayer:[!] samples exists ...\n"
          ]
        }
      ]
    },
    {
      "cell_type": "code",
      "source": [
        "import os, time, multiprocessing\n",
        "import numpy as np\n",
        "import tensorflow as tf\n",
        "import tensorlayer as tl\n",
        "from glob import glob\n",
        "# from data import get_celebA, flags\n",
        "# from model import get_generator, get_discriminator\n",
        "\n",
        "num_tiles = int(np.sqrt(flags.sample_size))\n",
        "seed = tf.random.normal([16, 100])"
      ],
      "metadata": {
        "id": "EsnDh4RMRSK6"
      },
      "execution_count": null,
      "outputs": []
    },
    {
      "cell_type": "code",
      "source": [
        "def train():\n",
        "    images, images_path = get_celebA(flags.output_size, flags.n_epoch, flags.batch_size)\n",
        "    # print('image',images.shape)\n",
        "    G = get_generator([None, flags.z_dim])\n",
        "    D = get_discriminator([None, flags.output_size, flags.output_size, flags.c_dim])\n",
        "\n",
        "    G.train()\n",
        "    D.train()\n",
        "\n",
        "    d_optimizer = tf.optimizers.Adam(flags.lr, beta_1=flags.beta1)\n",
        "    g_optimizer = tf.optimizers.Adam(flags.lr, beta_1=flags.beta1)\n",
        "\n",
        "    n_step_epoch = int(len(images_path) // flags.batch_size)\n",
        "    \n",
        "    # Z = tf.distributions.Normal(0., 1.)\n",
        "    for epoch in range(flags.n_epoch):\n",
        "        loss_dis =0.\n",
        "        loss_gen =0.\n",
        "        for step, batch_images in enumerate(images):\n",
        "            \n",
        "            if batch_images.shape[0] != flags.batch_size: # if the remaining data in this epoch < batch_size\n",
        "                break\n",
        "            step_time = time.time()\n",
        "            with tf.GradientTape(persistent=True) as tape:\n",
        "                # z = Z.sample([flags.batch_size, flags.z_dim]) \n",
        "                z = np.random.normal(loc=0.0, scale=1.0, size=[flags.batch_size, flags.z_dim]).astype(np.float32)\n",
        "                d_logits = D(G(z))\n",
        "                d2_logits = D(batch_images)\n",
        "                # discriminator: real images are labelled as 1\n",
        "                d_loss_real = tl.cost.sigmoid_cross_entropy(d2_logits, tf.ones_like(d2_logits), name='dreal')\n",
        "                # discriminator: images from generator (fake) are labelled as 0\n",
        "                d_loss_fake = tl.cost.sigmoid_cross_entropy(d_logits, tf.zeros_like(d_logits), name='dfake')\n",
        "                # combined loss for updating discriminator\n",
        "                d_loss = d_loss_real + d_loss_fake\n",
        "                loss_dis += d_loss.numpy().mean()\n",
        "                \n",
        "                # generator: try to fool discriminator to output 1\n",
        "                g_loss = tl.cost.sigmoid_cross_entropy(d_logits, tf.ones_like(d_logits), name='gfake')\n",
        "                loss_gen += g_loss.numpy().mean()\n",
        "            grad = tape.gradient(g_loss, G.trainable_weights)\n",
        "            g_optimizer.apply_gradients(zip(grad, G.trainable_weights))\n",
        "            grad = tape.gradient(d_loss, D.trainable_weights)\n",
        "            d_optimizer.apply_gradients(zip(grad, D.trainable_weights))\n",
        "            del tape\n",
        "\n",
        "            print(\"Epoch: [{}/{}] [{}/{}] took: {:.3f}, d_loss: {:.5f}, g_loss: {:.5f}\".format(epoch, \\\n",
        "                  flags.n_epoch, step, n_step_epoch, time.time()-step_time, d_loss, g_loss))\n",
        "            \n",
        "        generate_and_save_images(G,\n",
        "                             epoch + 1,\n",
        "                             seed)\n",
        "        loss_gen = loss_gen/(n_step_epoch)\n",
        "        loss_dis = loss_dis/(n_step_epoch)\n",
        "        draw_loss(loss_gen,loss_dis)\n",
        "\n",
        "        if np.mod(epoch, flags.save_every_epoch) == 0:\n",
        "            G.save_weights('{}/G.npz'.format(flags.checkpoint_dir), format='npz')\n",
        "            D.save_weights('{}/D.npz'.format(flags.checkpoint_dir), format='npz')\n",
        "            z = np.random.normal(loc=0.0, scale=1.0, size=[flags.batch_size, flags.z_dim]).astype(np.float32)\n",
        "            G.eval()\n",
        "            result = G(z)\n",
        "            G.train()\n",
        "            tl.visualize.save_images(result.numpy(), [num_tiles, num_tiles], '{}/train_{:02d}.png'.format(flags.sample_dir, epoch))\n",
        "\n",
        "if __name__ == '__main__':\n",
        "    train()"
      ],
      "metadata": {
        "colab": {
          "base_uri": "https://localhost:8080/",
          "height": 724
        },
        "id": "fHg4IOWrRTlo",
        "outputId": "b5baf834-a68c-41c3-e734-c6441ad2b1bb"
      },
      "execution_count": null,
      "outputs": [
        {
          "output_type": "display_data",
          "data": {
            "text/plain": [
              "<Figure size 864x576 with 2 Axes>"
            ],
            "image/png": "[encoded data removed]"
          },
          "metadata": {
            "needs_background": "light"
          }
        },
        {
          "output_type": "stream",
          "name": "stderr",
          "text": [
            "INFO:tensorlayer:[*] Saving TL weights into checkpoint/G.npz\n",
            "INFO:tensorlayer:[*] Saved\n",
            "INFO:tensorlayer:[*] Saving TL weights into checkpoint/D.npz\n",
            "INFO:tensorlayer:[*] Saved\n"
          ]
        },
        {
          "output_type": "stream",
          "name": "stdout",
          "text": [
            "dis_loss\n",
            "\tdis_loss         \t (min:    0.023, max:    0.703, cur:    0.068)\n",
            "gen_loss\n",
            "\tgen_loss         \t (min:    2.496, max:   10.228, cur:    7.047)\n"
          ]
        }
      ]
    },
    {
      "cell_type": "code",
      "source": [
        "from google.colab import drive\n",
        "drive.mount('/content/drive')"
      ],
      "metadata": {
        "colab": {
          "base_uri": "https://localhost:8080/"
        },
        "id": "ENtx4dt_5-Yx",
        "outputId": "37470d85-35d1-40ba-e58a-388d811fba78"
      },
      "execution_count": null,
      "outputs": [
        {
          "output_type": "stream",
          "name": "stdout",
          "text": [
            "Mounted at /content/drive\n"
          ]
        }
      ]
    },
    {
      "cell_type": "code",
      "source": [
        "anim_file = 'dcgan.gif'\n",
        "\n",
        "with imageio.get_writer(anim_file, mode='I') as writer:\n",
        "  filenames = glob.glob('image*.png')\n",
        "  filenames = sorted(filenames)\n",
        "  for filename in filenames:\n",
        "    image = imageio.imread(filename)\n",
        "    writer.append_data(image)\n",
        "  image = imageio.imread(filename)\n",
        "  writer.append_data(image)"
      ],
      "metadata": {
        "id": "378Vb6ieHpjq"
      },
      "execution_count": null,
      "outputs": []
    },
    {
      "cell_type": "code",
      "source": [
        "import tensorflow_docs.vis.embed as embed\n",
        "embed.embed_file(anim_file)"
      ],
      "metadata": {
        "id": "kIuaQ5Y7HpmL"
      },
      "execution_count": null,
      "outputs": []
    }
  ],
  "metadata": {
    "colab": {
      "collapsed_sections": [
        "u33memhzE5ZV"
      ],
      "provenance": [],
      "machine_shape": "hm",
      "include_colab_link": true
    },
    "gpuClass": "premium",
    "kernelspec": {
      "display_name": "Python 3",
      "name": "python3"
    },
    "language_info": {
      "name": "python"
    },
    "accelerator": "GPU"
  },
  "nbformat": 4,
  "nbformat_minor": 0
}